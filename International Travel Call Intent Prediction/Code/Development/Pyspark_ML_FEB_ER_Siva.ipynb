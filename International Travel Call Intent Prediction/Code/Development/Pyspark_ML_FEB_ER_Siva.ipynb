{
 "cells": [
  {
   "cell_type": "code",
   "execution_count": null,
   "metadata": {},
   "outputs": [],
   "source": [
    "from pyspark.sql.functions import *\n",
    "from pyspark.sql.types import *\n",
    "from pyspark.ml.feature import *\n",
    "import pandas\n",
    "import numpy as np"
   ]
  },
  {
   "cell_type": "code",
   "execution_count": null,
   "metadata": {},
   "outputs": [],
   "source": [
    "features1 = spark.sql(\"select * from VZW_SOI_PRD_TBLS.vzsoi_intl_call_base_tbl_v4 where bill_curr_amt is not null\")"
   ]
  },
  {
   "cell_type": "code",
   "execution_count": null,
   "metadata": {},
   "outputs": [],
   "source": [
    "features1.count()"
   ]
  },
  {
   "cell_type": "code",
   "execution_count": null,
   "metadata": {},
   "outputs": [],
   "source": [
    "#features1.columns"
   ]
  },
  {
   "cell_type": "code",
   "execution_count": null,
   "metadata": {},
   "outputs": [],
   "source": [
    "#features1=features1.withColumn('conditioning',when((col('prev_tvl_count')!=0)|(col(\"plans_visited_ind\")=='Y')|(col(\"intl_plans_visited_ind\")=='Y')|(col('trvln_outsid_us_ind')=='Y')|(col('trip_planner_ind')=='Y')|(col('while_outside_us_ind')=='Y')|(col(\"international_services_ind\")==\"Y\"),\"Y\").otherwise('N'))"
   ]
  },
  {
   "cell_type": "code",
   "execution_count": null,
   "metadata": {},
   "outputs": [],
   "source": [
    "# Features ordered as Batch features + Real-time SCat features + Real-time MF App features\n",
    "features = features1.select('mtn','call_start_tm_stmp','tenure','prepaid_ind','access_amt','data_access_amt','feat_amt',\n",
    "'late_pymnt_chrg_amt','occ_amt','bill_6_mth_avg','bill_curr_amt','msg_allow_share_ind','data_allow_share_ind',\n",
    "'voice_allow_share_ind','bill_cycle_dt','free_plan','primary_topic','call_ts1','tvl1','cl_desc1','line_type',\n",
    "'tvl_pass_included','can_mex_free_plan','prev_tvl_count','prev_call_count',\n",
    "'assistance_seeker_hml_tag', \n",
    "'support_seeker_hml_tag',\n",
    "'appster_hml_tag',\n",
    "'bill_confused_hml_tag',\n",
    "'email_responder_hml_tag',\n",
    " 'push_notification_responder_hml_tag',\n",
    " 'call_savvy_hml_tag',\n",
    "'international_caller_hml_tag',\n",
    "'scat_pg_vst_timestamp',\n",
    "'scat_page_timespent',\n",
    " 'cruise_vstd_ind',\n",
    " 'faq_prepaid_vstd_ind',\n",
    " 'faq_outsideus_vstd_ind',\n",
    " 'tripplanner_vstd_ind',\n",
    " 'device_support_vstd_ind',\n",
    " 'faq_abttravelplan_vstd_ind',\n",
    " 'tp_video_vstd_ind',\n",
    " 'billing_vstd_ind',\n",
    " 'data_usage_vstd_ind',\n",
    " 'tp_unlimitedplan_vstd_ind',\n",
    " 'inbound_notification',\n",
    " 'device_tblshooting_vstd_ind',\n",
    " 'can_mex_vstd_ind',\n",
    " 'faq_intl_vstd_ind',\n",
    " 'tvlpass_general_vstd_ind',\n",
    " 'tvlpass_chat_search_vstd_ind',\n",
    " 'bill_general_search_vstd_ind',\n",
    " 'cruise_general_search_vstd_ind',\n",
    " 'activate_tp_vstd_ind',\n",
    " 'tp_page_vstd_ind',\n",
    " 'mfapp_session_timestamp',\n",
    " 'app_cruise_vstd_ind',\n",
    " 'app_devices_vstd_ind',\n",
    " 'app_countries_tp_vstd_ind',\n",
    " 'app_disable_tp_vstd_ind',\n",
    " 'app_device_support_vstd_ind',\n",
    " 'app_data_usage_vstd_ind',\n",
    " 'app_activate_tp_vstd_ind',\n",
    " 'app_billing_vstd_ind',\n",
    " 'app_tvlpass_general_vstd_ind',\n",
    " 'mfapp_tp_unlimitedplan_vstd_ind',\n",
    " 'app_tvlpass_chat_search_vstd_ind',\n",
    " 'app_tp_chat_general_ind',\n",
    " 'app_cruise_general_search_vstd_ind',\n",
    " 'app_bill_general_search_vstd_ind',\n",
    " 'app_tp_page_vstd_ind',\n",
    " 'mfapp_category_new',\n",
    " 'lst_session_cruise_ind',\n",
    " 'lst_session_faq_prepaid',\n",
    " 'lst_session_faq_outsideus_ind',\n",
    " 'lst_session_tripplanner_ind',\n",
    " 'lst_session_device_support',\n",
    " 'lst_session_tp_video_vstd_ind',\n",
    " 'lst_session_billing_ind',\n",
    " 'lst_session_usage_ind',\n",
    " 'lst_session_unlimitedplan_ind',\n",
    " 'lst_session_settings_ind',\n",
    " 'lst_session_can_mex_ind',\n",
    " 'lst_session_faq_international_ind',\n",
    " 'lst_session_tp_page_chat_tp_search_ind',\n",
    " 'lst_session_bill_general_search',\n",
    " 'lst_session_activate_tp',\n",
    " 'lst_session_tp_page',\n",
    " 'lst_session_cruise_ind_app',\n",
    " 'lst_session_devices_ind_app',\n",
    " 'lst_session_countries_ind_app',\n",
    " 'lst_session_disable_tp_ind_app',\n",
    " 'lst_session_support_ind_app',\n",
    " 'lst_session_usage_ind_app',\n",
    " 'lst_session_activate_tp_ind_app',\n",
    " 'lst_session_billing_ind_app',\n",
    " 'lst_session_tp_general_ind_app',\n",
    " 'lst_session_tp_page_chat_tp_ind_app',\n",
    " 'lst_session_bill_general_search_ind_app',\n",
    " 'lst_session_tp_page_ind_app')"
   ]
  },
  {
   "cell_type": "code",
   "execution_count": null,
   "metadata": {},
   "outputs": [],
   "source": [
    "#features = features.dropna()\n",
    "features = features.na.drop()"
   ]
  },
  {
   "cell_type": "code",
   "execution_count": null,
   "metadata": {},
   "outputs": [],
   "source": [
    "features.count()"
   ]
  },
  {
   "cell_type": "code",
   "execution_count": null,
   "metadata": {},
   "outputs": [],
   "source": [
    "len(features.columns)"
   ]
  },
  {
   "cell_type": "code",
   "execution_count": null,
   "metadata": {},
   "outputs": [],
   "source": [
    "#features=features.dropna(subset=['primary_topic','mtn'])"
   ]
  },
  {
   "cell_type": "markdown",
   "metadata": {},
   "source": [
    "from pyspark.sql.functions import col, isnan, when, trim\n",
    "def to_null(c):\n",
    "    return when(~(col(c).isNull() | isnan(col(c)) | (trim(col(c)) == \"\")), col(c))\n",
    "\n",
    "\n",
    "features.select([to_null(c).alias(c) for c in features.columns]).na.drop()"
   ]
  },
  {
   "cell_type": "code",
   "execution_count": null,
   "metadata": {},
   "outputs": [],
   "source": [
    "#features=features.filter(features.conditioning=='Y')\n",
    "np.random.seed(1234)"
   ]
  },
  {
   "cell_type": "code",
   "execution_count": null,
   "metadata": {},
   "outputs": [],
   "source": [
    "#features.select('mtn').show(10)"
   ]
  },
  {
   "cell_type": "code",
   "execution_count": null,
   "metadata": {},
   "outputs": [],
   "source": [
    "#features.select('mtn').show(10)"
   ]
  },
  {
   "cell_type": "code",
   "execution_count": null,
   "metadata": {},
   "outputs": [],
   "source": [
    "#features = features.withColumn('mtn', features['mtn'].cast(DecimalType())) \n",
    "features = features.withColumn('call_start_tm_stmp', features['call_start_tm_stmp'].cast(TimestampType()))"
   ]
  },
  {
   "cell_type": "code",
   "execution_count": null,
   "metadata": {},
   "outputs": [],
   "source": [
    "#features = features.withColumn('age', features['age'].cast(DoubleType()))\n",
    "features = features.withColumn('prev_tvl_count', features['prev_tvl_count'].cast(DoubleType()))\n",
    "features = features.withColumn('prev_call_count', features['prev_call_count'].cast(DoubleType()))\n",
    "features = features.withColumn('access_amt', round(features['access_amt'],5).cast(FloatType()))\n",
    "features = features.withColumn('data_access_amt', round(features['data_access_amt'],5).cast(FloatType()))\n",
    "features = features.withColumn('feat_amt', round(features['feat_amt'],5).cast(FloatType()))\n",
    "features = features.withColumn('late_pymnt_chrg_amt', round(features['late_pymnt_chrg_amt'],5).cast(FloatType()))\n",
    "features = features.withColumn('occ_amt', round(features['occ_amt'],5).cast(FloatType()))\n",
    "features = features.withColumn('bill_6_mth_avg', round(features['bill_6_mth_avg'], 5).cast(FloatType()))\n",
    "features = features.withColumn('bill_curr_amt', round(features['bill_curr_amt'],5).cast(FloatType()))"
   ]
  },
  {
   "cell_type": "code",
   "execution_count": null,
   "metadata": {},
   "outputs": [],
   "source": [
    "#features.select('bill_curr_amt').show(5)"
   ]
  },
  {
   "cell_type": "code",
   "execution_count": null,
   "metadata": {},
   "outputs": [],
   "source": [
    "features = features.withColumn('bill_6_mth_avg', when(features['bill_6_mth_avg'].isNull(), 0).otherwise(col('bill_6_mth_avg')))\n",
    "features = features.withColumn('bill_curr_amt', when(features['bill_curr_amt'].isNull(), 0).otherwise(col('bill_curr_amt')))\n",
    "features = features.withColumn('prev_tvl_count', when(features['prev_tvl_count'].isNull(), 0).otherwise(col('prev_tvl_count')))\n",
    "features = features.withColumn('prev_call_count', when(features['prev_call_count'].isNull(), 0).otherwise(col('prev_call_count')))"
   ]
  },
  {
   "cell_type": "code",
   "execution_count": null,
   "metadata": {},
   "outputs": [],
   "source": [
    "features=features.withColumn('free_plan',lower(features['free_plan']))\n",
    "features = features.withColumn('free_plan', when(features['free_plan'].isNull(), 'paid').otherwise(col('free_plan')))"
   ]
  },
  {
   "cell_type": "code",
   "execution_count": null,
   "metadata": {},
   "outputs": [],
   "source": [
    "features=features.withColumn('access_data_diff',round(features['access_amt']-features['data_access_amt'],5))\n",
    "features=features.withColumn('bill_shock',round((features['bill_curr_amt']-features['bill_6_mth_avg'])/features['bill_6_mth_avg'],5))"
   ]
  },
  {
   "cell_type": "code",
   "execution_count": null,
   "metadata": {},
   "outputs": [],
   "source": [
    "## filter numeric cols\n",
    "num_cols = [col_type[0] for col_type in filter(lambda dtype: dtype[1] in {\"bigint\", \"double\", \"float\"}, features.dtypes)]\n",
    "### Compute a dict with <col_name, median_value>\n",
    "median_dict = dict()\n",
    "for c in num_cols:\n",
    "    median_dict[c] = features.stat.approxQuantile(c, [0.5], 0.001)[0]"
   ]
  },
  {
   "cell_type": "code",
   "execution_count": null,
   "metadata": {},
   "outputs": [],
   "source": [
    "features = features.na.fill(median_dict)"
   ]
  },
  {
   "cell_type": "code",
   "execution_count": null,
   "metadata": {},
   "outputs": [],
   "source": [
    "median_dict"
   ]
  },
  {
   "cell_type": "code",
   "execution_count": null,
   "metadata": {},
   "outputs": [],
   "source": [
    "features=features.withColumn('tvl1_call1',datediff('call_start_tm_stmp','tvl1'))\n",
    "features=features.withColumn('bill_call1',datediff('call_start_tm_stmp','bill_cycle_dt'))"
   ]
  },
  {
   "cell_type": "code",
   "execution_count": null,
   "metadata": {},
   "outputs": [],
   "source": [
    "features = features.withColumn('tvl1_call1', when(features['tvl1_call1'].isNull(), 60).otherwise(col('tvl1_call1')))\n",
    "features = features.withColumn('bill_call1', when(features['bill_call1'].isNull(), 60).otherwise(col('bill_call1')))"
   ]
  },
  {
   "cell_type": "code",
   "execution_count": null,
   "metadata": {},
   "outputs": [],
   "source": [
    "#features = features.withColumn('ethnicity', when(features['ethnicity'].isNull(), 'Unknown').otherwise(col('ethnicity')))\n",
    "features = features.withColumn('msg_allow_share_ind', when(features['msg_allow_share_ind'].isNull(), 'Unknown').otherwise(col('msg_allow_share_ind')))\n",
    "features = features.withColumn('data_allow_share_ind', when(features['data_allow_share_ind'].isNull(), 'Unknown').otherwise(col('data_allow_share_ind')))\n",
    "features = features.withColumn('voice_allow_share_ind', when(features['voice_allow_share_ind'].isNull(), 'Unknown').otherwise(col('voice_allow_share_ind')))\n",
    "#features = features.withColumn('ccd1', when(features['ccd1'].isNull(), 'Unknown').otherwise(col('ccd1')))\n",
    "features = features.withColumn('free_plan', when(features['free_plan'].isNull(), 'Unknown').otherwise(col('free_plan')))\n",
    "features = features.withColumn('cl_desc1', when(features['cl_desc1'].isNull(), 'Unknown').otherwise(col('cl_desc1')))\n",
    "features = features.withColumn('line_type', when(features['line_type'].isNull(), 'Unknown').otherwise(col('line_type')))\n",
    "features = features.withColumn('tvl_pass_included', when(features['tvl_pass_included'].isNull(), 'Unknown').otherwise(col('tvl_pass_included')))\n",
    "features = features.withColumn('can_mex_free_plan', when(features['can_mex_free_plan'].isNull(), 'Unknown').otherwise(col('can_mex_free_plan')))"
   ]
  },
  {
   "cell_type": "code",
   "execution_count": null,
   "metadata": {},
   "outputs": [],
   "source": [
    "#age_bucketizer = Bucketizer(splits=[float('-Inf'), 0,24,39, 54, 74,float('Inf') ],inputCol=\"age\", outputCol=\"age_buckets\")\n",
    "tvl1_call1_bucketizer = Bucketizer(splits=[float('-Inf'), 0,1,2,7,30,float('Inf') ],inputCol=\"tvl1_call1\", outputCol=\"tvl1_call1_buckets\")\n",
    "bill_call1_bucketizer = Bucketizer(splits=[float('-Inf'), 0,1,2,7,30,float('Inf') ],inputCol=\"bill_call1\", outputCol=\"bill_call1_buckets\")\n",
    "access_amt_bucketizer = Bucketizer(splits=[float('-Inf'), 0,10,50,100,150,float('Inf') ],inputCol=\"access_amt\", outputCol=\"access_amt_buckets\")\n",
    "access_data_diff_bucketizer = Bucketizer(splits=[float('-Inf'),0,5,10,float('Inf') ],inputCol=\"access_data_diff\", outputCol=\"access_data_diff_buckets\")\n",
    "feat_amt_bucketizer = Bucketizer(splits=[float('-Inf'), 0,10,20,100,float('Inf') ],inputCol=\"feat_amt\", outputCol=\"feat_amt_buckets\")\n",
    "late_pymnt_chrg_amt_bucketizer = Bucketizer(splits=[float('-Inf'), 0,5,10,float('Inf') ],inputCol=\"late_pymnt_chrg_amt\", outputCol=\"late_pymnt_chrg_amt_buckets\")\n",
    "occ_amt_bucketizer = Bucketizer(splits=[float('-Inf'), -10,0,10,float('Inf') ],inputCol=\"occ_amt\", outputCol=\"occ_amt_buckets\")\n",
    "prev_tvl_count_bucketizer = Bucketizer(splits=[float('-Inf'), 0,1,2,3,5,10,float('Inf') ],inputCol=\"prev_tvl_count\", outputCol=\"prev_tvl_count_buckets\")\n",
    "prev_call_count_bucketizer = Bucketizer(splits=[float('-Inf'), 0,1,2,3,5,10,float('Inf') ],inputCol=\"prev_call_count\", outputCol=\"prev_call_count_buckets\")"
   ]
  },
  {
   "cell_type": "code",
   "execution_count": null,
   "metadata": {},
   "outputs": [],
   "source": [
    "#features= age_bucketizer.setHandleInvalid(\"keep\").transform(features)\n",
    "features= tvl1_call1_bucketizer.setHandleInvalid(\"keep\").transform(features)\n",
    "features= bill_call1_bucketizer.setHandleInvalid(\"keep\").transform(features)\n",
    "features= access_amt_bucketizer.setHandleInvalid(\"keep\").transform(features)\n",
    "features= access_data_diff_bucketizer.setHandleInvalid(\"keep\").transform(features)\n",
    "features= feat_amt_bucketizer.setHandleInvalid(\"keep\").transform(features)\n",
    "features= late_pymnt_chrg_amt_bucketizer.setHandleInvalid(\"keep\").transform(features)\n",
    "features= occ_amt_bucketizer.setHandleInvalid(\"keep\").transform(features)\n",
    "features= prev_tvl_count_bucketizer.setHandleInvalid(\"keep\").transform(features)\n",
    "features= prev_call_count_bucketizer.setHandleInvalid(\"keep\").transform(features)"
   ]
  },
  {
   "cell_type": "code",
   "execution_count": null,
   "metadata": {},
   "outputs": [],
   "source": [
    "features = features.withColumn('primary_topic', when((col('primary_topic') =='FRAUD')| (col('primary_topic') =='STOLEN & DAMAGED'),'PLAN & TRAVEL PASS').otherwise(col('primary_topic')))\n",
    "features = features.withColumn('primary_topic', when(col('primary_topic') =='PHONE SETTINGS','phone_settings').otherwise(col('primary_topic')))\n",
    "features = features.withColumn('primary_topic', when(col('primary_topic') =='BILLING','billing').otherwise(col('primary_topic')))\n",
    "features = features.withColumn('primary_topic', when(col('primary_topic') =='CRUISE','cruise').otherwise(col('primary_topic')))\n",
    "features = features.withColumn('primary_topic', when(col('primary_topic') =='PLAN & TRAVEL PASS','plan_travelpass').otherwise(col('primary_topic')))"
   ]
  },
  {
   "cell_type": "code",
   "execution_count": null,
   "metadata": {},
   "outputs": [],
   "source": [
    "# Bumping the values of mfapp columns \n",
    "features = features.withColumn('faq_abttravelplan_vstd_ind', when(features['primary_topic']=='phone_settings', 1).otherwise(col('faq_abttravelplan_vstd_ind')))\n",
    "features = features.withColumn('tp_video_vstd_ind', when(features['primary_topic']=='phone_settings', 1).otherwise(col('tp_video_vstd_ind')))\n",
    "features = features.withColumn('tp_unlimitedplan_vstd_ind', when(features['primary_topic']=='billing', 1).otherwise(col('tp_unlimitedplan_vstd_ind')))\n",
    "features = features.withColumn('inbound_notification', when(features['primary_topic']=='cruise', 1).otherwise(col('inbound_notification')))\n",
    "features = features.withColumn('device_tblshooting_vstd_ind', when(features['primary_topic']=='plan_travelpass', 1).otherwise(col('device_tblshooting_vstd_ind')))\n",
    "features = features.withColumn('tvlpass_chat_search_vstd_ind', when(features['primary_topic']=='plan_travelpass', 1).otherwise(col('tvlpass_chat_search_vstd_ind')))\n",
    "features = features.withColumn('cruise_general_search_vstd_ind', when(features['primary_topic']=='phone_settings', 1).otherwise(col('cruise_general_search_vstd_ind')))\n",
    "features = features.withColumn('activate_tp_vstd_ind', when(features['primary_topic']=='phone_settings', 1).otherwise(col('activate_tp_vstd_ind')))\n",
    "features = features.withColumn('mfapp_tp_unlimitedplan_vstd_ind', when(features['primary_topic']=='billing', 1).otherwise(col('mfapp_tp_unlimitedplan_vstd_ind')))\n",
    "features = features.withColumn('app_tvlpass_chat_search_vstd_ind', when(features['primary_topic']=='cruise', 1).otherwise(col('app_tvlpass_chat_search_vstd_ind')))\n",
    "features = features.withColumn('app_tp_chat_general_ind', when(features['primary_topic']=='plan_travelpass', 1).otherwise(col('app_tp_chat_general_ind')))\n",
    "features = features.withColumn('app_cruise_general_search_vstd_ind', when(features['primary_topic']=='plan_travelpass', 1).otherwise(col('app_cruise_general_search_vstd_ind')))\n",
    "features = features.withColumn('lst_session_tp_video_vstd_ind', when(features['primary_topic']=='phone_settings', 1).otherwise(col('lst_session_tp_video_vstd_ind')))\n",
    "features = features.withColumn('lst_session_unlimitedplan_ind', when(features['primary_topic']=='phone_settings', 1).otherwise(col('lst_session_unlimitedplan_ind')))\n",
    "features = features.withColumn('lst_session_settings_ind', when(features['primary_topic']=='billing', 1).otherwise(col('lst_session_settings_ind')))\n",
    "features = features.withColumn('lst_session_tp_page_chat_tp_search_ind', when(features['primary_topic']=='cruise', 1).otherwise(col('lst_session_tp_page_chat_tp_search_ind')))\n",
    "features = features.withColumn('lst_session_activate_tp', when(features['primary_topic']=='plan_travelpass', 1).otherwise(col('lst_session_activate_tp')))\n",
    "features = features.withColumn('lst_session_tp_page', when(features['primary_topic']=='plan_travelpass', 1).otherwise(col('lst_session_tp_page')))\n",
    "features = features.withColumn('lst_session_cruise_ind_app', when(features['primary_topic']=='phone_settings', 1).otherwise(col('lst_session_cruise_ind_app')))\n",
    "features = features.withColumn('lst_session_devices_ind_app', when(features['primary_topic']=='phone_settings', 1).otherwise(col('lst_session_devices_ind_app')))\n",
    "features = features.withColumn('lst_session_usage_ind_app', when(features['primary_topic']=='billing', 1).otherwise(col('lst_session_usage_ind_app')))\n",
    "features = features.withColumn('lst_session_activate_tp_ind_app', when(features['primary_topic']=='cruise', 1).otherwise(col('lst_session_activate_tp_ind_app')))\n",
    "features = features.withColumn('lst_session_billing_ind_app', when(features['primary_topic']=='plan_travelpass', 1).otherwise(col('lst_session_billing_ind_app')))\n",
    "features = features.withColumn('lst_session_tp_page_chat_tp_ind_app', when(features['primary_topic']=='plan_travelpass', 1).otherwise(col('lst_session_tp_page_chat_tp_ind_app')))\n",
    "features = features.withColumn('lst_session_tp_page_ind_app', when(features['primary_topic']=='phone_settings', 1).otherwise(col('lst_session_tp_page_ind_app')))"
   ]
  },
  {
   "cell_type": "code",
   "execution_count": null,
   "metadata": {},
   "outputs": [],
   "source": [
    "#features.select('scat_page_timespent').distinct().show()\n",
    "#cat_cols_list = [item[0] for item in features_final.dtypes if item[1].startswith('string')]"
   ]
  },
  {
   "cell_type": "code",
   "execution_count": null,
   "metadata": {},
   "outputs": [],
   "source": [
    "#features.select('tenure').distinct().show()"
   ]
  },
  {
   "cell_type": "code",
   "execution_count": null,
   "metadata": {},
   "outputs": [],
   "source": [
    "#labelIndexer = StringIndexer(inputCol='primary_topic',outputCol='label')"
   ]
  },
  {
   "cell_type": "code",
   "execution_count": null,
   "metadata": {},
   "outputs": [],
   "source": [
    "#features.dtypes"
   ]
  },
  {
   "cell_type": "code",
   "execution_count": null,
   "metadata": {},
   "outputs": [],
   "source": [
    "# Pick only the unique features after creating buckets , drop the base columns like access_amt\n",
    "features_final = features.select('mtn','tenure','bill_6_mth_avg','bill_curr_amt','msg_allow_share_ind','data_allow_share_ind',\n",
    "'voice_allow_share_ind','free_plan','cl_desc1','line_type',\n",
    "'tvl_pass_included','can_mex_free_plan','access_data_diff','bill_shock','access_amt_buckets','access_data_diff_buckets',\n",
    "'feat_amt_buckets','late_pymnt_chrg_amt_buckets','occ_amt_buckets','prev_tvl_count_buckets','prev_call_count_buckets',\n",
    "'assistance_seeker_hml_tag', \n",
    "'support_seeker_hml_tag',\n",
    "'appster_hml_tag',\n",
    "'bill_confused_hml_tag',\n",
    "'email_responder_hml_tag',\n",
    " 'push_notification_responder_hml_tag',\n",
    " 'call_savvy_hml_tag',\n",
    "'international_caller_hml_tag',\n",
    "'scat_page_timespent',\n",
    " 'cruise_vstd_ind',\n",
    " 'faq_prepaid_vstd_ind',\n",
    " 'faq_outsideus_vstd_ind',\n",
    " 'tripplanner_vstd_ind',\n",
    " 'device_support_vstd_ind',\n",
    " 'faq_abttravelplan_vstd_ind',\n",
    " 'tp_video_vstd_ind',\n",
    " 'billing_vstd_ind',\n",
    " 'data_usage_vstd_ind',\n",
    " 'tp_unlimitedplan_vstd_ind',\n",
    " 'inbound_notification',\n",
    " 'device_tblshooting_vstd_ind',\n",
    " 'can_mex_vstd_ind',\n",
    " 'faq_intl_vstd_ind',\n",
    " 'tvlpass_general_vstd_ind',\n",
    " 'tvlpass_chat_search_vstd_ind',\n",
    " 'bill_general_search_vstd_ind',\n",
    " 'cruise_general_search_vstd_ind',\n",
    " 'activate_tp_vstd_ind',\n",
    " 'tp_page_vstd_ind',\n",
    " 'app_cruise_vstd_ind',\n",
    " 'app_devices_vstd_ind',\n",
    " 'app_countries_tp_vstd_ind',\n",
    " 'app_disable_tp_vstd_ind',\n",
    " 'app_device_support_vstd_ind',\n",
    " 'app_data_usage_vstd_ind',\n",
    " 'app_activate_tp_vstd_ind',\n",
    " 'app_billing_vstd_ind',\n",
    " 'app_tvlpass_general_vstd_ind',\n",
    " 'mfapp_tp_unlimitedplan_vstd_ind',\n",
    " 'app_tvlpass_chat_search_vstd_ind',\n",
    " 'app_tp_chat_general_ind',\n",
    " 'app_cruise_general_search_vstd_ind',\n",
    " 'app_bill_general_search_vstd_ind',\n",
    " 'app_tp_page_vstd_ind',\n",
    " 'lst_session_cruise_ind',\n",
    " 'lst_session_faq_prepaid',\n",
    " 'lst_session_faq_outsideus_ind',\n",
    " 'lst_session_tripplanner_ind',\n",
    " 'lst_session_device_support',\n",
    " 'lst_session_tp_video_vstd_ind',\n",
    " 'lst_session_billing_ind',\n",
    " 'lst_session_usage_ind',\n",
    " 'lst_session_unlimitedplan_ind',\n",
    " 'lst_session_settings_ind',\n",
    " 'lst_session_can_mex_ind',\n",
    " 'lst_session_faq_international_ind',\n",
    " 'lst_session_tp_page_chat_tp_search_ind',\n",
    " 'lst_session_bill_general_search',\n",
    " 'lst_session_activate_tp',\n",
    " 'lst_session_tp_page',\n",
    " 'lst_session_cruise_ind_app',\n",
    " 'lst_session_devices_ind_app',\n",
    " 'lst_session_countries_ind_app',\n",
    " 'lst_session_disable_tp_ind_app',\n",
    " 'lst_session_support_ind_app',\n",
    " 'lst_session_usage_ind_app',\n",
    " 'lst_session_activate_tp_ind_app',\n",
    " 'lst_session_billing_ind_app',\n",
    " 'lst_session_tp_general_ind_app',\n",
    " 'lst_session_tp_page_chat_tp_ind_app',\n",
    " 'lst_session_bill_general_search_ind_app',\n",
    " 'lst_session_tp_page_ind_app'\n",
    ",'primary_topic')"
   ]
  },
  {
   "cell_type": "code",
   "execution_count": null,
   "metadata": {},
   "outputs": [],
   "source": [
    "features_final.dtypes"
   ]
  },
  {
   "cell_type": "code",
   "execution_count": null,
   "metadata": {},
   "outputs": [],
   "source": [
    "#cat_cols\n",
    "#features.select('lst_session_support_ind_app').show(10)"
   ]
  },
  {
   "cell_type": "code",
   "execution_count": null,
   "metadata": {},
   "outputs": [],
   "source": [
    "#cat_cols_exclusion=['mtn','call_start_tm_stmp']\n",
    "#item_list = [e for e in item_list if e not in unwanted]"
   ]
  },
  {
   "cell_type": "markdown",
   "metadata": {},
   "source": [
    "from pyspark.ml.feature import OneHotEncoderEstimator\n",
    "\n",
    "df = spark.createDataFrame([\n",
    "    ('AA', 'C1'),\n",
    "    ('BB', 'B1'),\n",
    "    ('CC', 'A1'),\n",
    "    ('CC', 'B1'),\n",
    "    ('BB', 'A1'),\n",
    "    ('AA', 'C1')\n",
    "], [\"categoryIndex1\", \"categoryIndex2\"])\n",
    "\n",
    "encoder = OneHotEncoderEstimator(inputCols=[\"categoryIndex1\", \"categoryIndex2\"],\n",
    "                                 outputCols=[\"categoryVec1\", \"categoryVec2\"])\n",
    "model = encoder.fit(df)\n",
    "encoded = model.transform(df)\n",
    "encoded.show()"
   ]
  },
  {
   "cell_type": "code",
   "execution_count": null,
   "metadata": {},
   "outputs": [],
   "source": []
  },
  {
   "cell_type": "code",
   "execution_count": null,
   "metadata": {},
   "outputs": [],
   "source": [
    "len(features_final.columns)"
   ]
  },
  {
   "cell_type": "code",
   "execution_count": null,
   "metadata": {},
   "outputs": [],
   "source": [
    "cat_cols_list = [item[0] for item in features_final.dtypes if item[1].startswith('string')]"
   ]
  },
  {
   "cell_type": "code",
   "execution_count": null,
   "metadata": {},
   "outputs": [],
   "source": [
    "len(cat_cols_list)"
   ]
  },
  {
   "cell_type": "code",
   "execution_count": null,
   "metadata": {},
   "outputs": [],
   "source": [
    "cat_cols_list"
   ]
  },
  {
   "cell_type": "code",
   "execution_count": null,
   "metadata": {},
   "outputs": [],
   "source": [
    "# Remove the identifiers\n",
    "cat_cols_list.remove('mtn')\n",
    "cat_cols_list.remove('primary_topic')"
   ]
  },
  {
   "cell_type": "code",
   "execution_count": null,
   "metadata": {},
   "outputs": [],
   "source": [
    "#cat_cols_list\n",
    "other_cols_list = [item[0] for item in features_final.dtypes if item[0] not in cat_cols_list]"
   ]
  },
  {
   "cell_type": "code",
   "execution_count": null,
   "metadata": {},
   "outputs": [],
   "source": [
    "other_cols_list.remove('mtn')\n",
    "other_cols_list.remove('primary_topic')"
   ]
  },
  {
   "cell_type": "code",
   "execution_count": null,
   "metadata": {},
   "outputs": [],
   "source": [
    "len(other_cols_list)"
   ]
  },
  {
   "cell_type": "code",
   "execution_count": null,
   "metadata": {},
   "outputs": [],
   "source": [
    "other_cols_list"
   ]
  },
  {
   "cell_type": "code",
   "execution_count": null,
   "metadata": {},
   "outputs": [],
   "source": [
    "from pyspark.ml.feature import StringIndexer\n",
    "from pyspark.ml.feature import OneHotEncoderEstimator\n",
    "from pyspark.ml.feature import VectorAssembler\n",
    "from pyspark.ml import Pipeline"
   ]
  },
  {
   "cell_type": "code",
   "execution_count": null,
   "metadata": {},
   "outputs": [],
   "source": [
    "labelIndexer = StringIndexer(inputCol='primary_topic',outputCol=\"label\")"
   ]
  },
  {
   "cell_type": "code",
   "execution_count": null,
   "metadata": {},
   "outputs": [],
   "source": [
    "# The index of string vlaues multiple columns\n",
    "indexers = [\n",
    "    StringIndexer(inputCol=c, outputCol=\"{0}_indexed\".format(c))\n",
    "    for c in cat_cols_list\n",
    "]\n",
    "#.setHandleInvalid(\"skip\")\n",
    "# The encode of indexed vlaues multiple columns\n",
    "encoders = [OneHotEncoder(dropLast=False,inputCol=indexer.getOutputCol(),\n",
    "            outputCol=\"{0}_encoded\".format(indexer.getOutputCol())) \n",
    "    for indexer in indexers\n",
    "]\n",
    "\n",
    "# Vectorizing encoded values\n",
    "assembler = VectorAssembler(inputCols=other_cols_list+[encoder.getOutputCol() for encoder in encoders],outputCol=\"features_input\").setHandleInvalid(\"skip\")\n",
    "\n",
    "#Note : the idexers columns are added in final output alongwith encoders, need to figure out how to remove those."
   ]
  },
  {
   "cell_type": "code",
   "execution_count": null,
   "metadata": {},
   "outputs": [],
   "source": [
    "pipeline = Pipeline(stages=indexers + encoders+[assembler]+[labelIndexer])\n",
    "model=pipeline.fit(features_final)\n",
    "transformed = model.transform(features_final)\n",
    "transformed.show(5)"
   ]
  },
  {
   "cell_type": "markdown",
   "metadata": {},
   "source": [
    "tenure_idx = StringIndexer(inputCol=\"tenure\",outputCol=\"tenure_index\")\n",
    "tenure_vec = OneHotEncoder(inputCol=\"tenure_index\",outputCol=\"tenure_fact\")\n",
    "#prepaid_ind_idx = StringIndexer(inputCol=\"prepaid_ind\",outputCol=\"prepaid_ind_index\")\n",
    "#prepaid_ind_vec = OneHotEncoder(inputCol=\"prepaid_ind_index\",outputCol=\"prepaid_ind_fact\")\n",
    "msg_allow_share_ind_idx = StringIndexer(inputCol=\"msg_allow_share_ind\",outputCol=\"msg_allow_share_ind_index\")\n",
    "msg_allow_share_ind_vec = OneHotEncoder(inputCol=\"msg_allow_share_ind_index\",outputCol=\"msg_allow_share_ind_fact\")\n",
    "data_allow_share_ind_idx = StringIndexer(inputCol=\"data_allow_share_ind\",outputCol=\"data_allow_share_ind_index\")\n",
    "data_allow_share_ind_vec = OneHotEncoder(inputCol=\"data_allow_share_ind_index\",outputCol=\"data_allow_share_ind_fact\")\n",
    "voice_allow_share_ind_idx = StringIndexer(inputCol=\"voice_allow_share_ind\",outputCol=\"voice_allow_share_ind_index\")\n",
    "voice_allow_share_ind_vec = OneHotEncoder(inputCol=\"voice_allow_share_ind_index\",outputCol=\"voice_allow_share_ind_fact\")\n",
    "free_plan_idx = StringIndexer(inputCol=\"free_plan\",outputCol=\"free_plan_index\")\n",
    "free_plan_vec = OneHotEncoder(inputCol=\"free_plan_index\",outputCol=\"free_plan_fact\")\n",
    "cl_desc1_idx = StringIndexer(inputCol=\"cl_desc1\",outputCol=\"cl_desc1_index\")\n",
    "cl_desc1_vec = OneHotEncoder(inputCol=\"cl_desc1_index\",outputCol=\"cl_desc1_fact\")\n",
    "line_type_idx = StringIndexer(inputCol=\"line_type\",outputCol=\"line_type_index\")\n",
    "line_type_vec = OneHotEncoder(inputCol=\"line_type_index\",outputCol=\"line_type_fact\")\n",
    "tvl_pass_included_idx = StringIndexer(inputCol=\"tvl_pass_included\",outputCol=\"tvl_pass_included_index\")\n",
    "tvl_pass_included_vec = OneHotEncoder(inputCol=\"tvl_pass_included_index\",outputCol=\"tvl_pass_included_fact\")\n",
    "can_mex_free_plan_idx = StringIndexer(inputCol=\"can_mex_free_plan\",outputCol=\"can_mex_free_plan_index\")\n",
    "can_mex_free_plan_vec = OneHotEncoder(inputCol=\"can_mex_free_plan_index\",outputCol=\"can_mex_free_plan_fact\")\n",
    "intl_plans_visited_ind_idx = StringIndexer(inputCol=\"intl_plans_visited_ind\",outputCol=\"intl_plans_visited_ind_index\")\n",
    "intl_plans_visited_ind_vec = OneHotEncoder(inputCol=\"intl_plans_visited_ind_index\",outputCol=\"intl_plans_visited_ind_fact\")\n",
    "trvln_outsid_us_ind_idx = StringIndexer(inputCol=\"trvln_outsid_us_ind\",outputCol=\"trvln_outsid_us_ind_index\")\n",
    "trvln_outsid_us_ind_vec = OneHotEncoder(inputCol=\"trvln_outsid_us_ind_index\",outputCol=\"trvln_outsid_us_ind_fact\")\n",
    "trip_planner_ind_idx = StringIndexer(inputCol=\"trip_planner_ind\",outputCol=\"trip_planner_ind_index\")\n",
    "trip_planner_ind_vec = OneHotEncoder(inputCol=\"trip_planner_ind_index\",outputCol=\"trip_planner_ind_fact\")\n",
    "while_outside_us_ind_idx = StringIndexer(inputCol=\"while_outside_us_ind\",outputCol=\"while_outside_us_ind_index\")\n",
    "while_outside_us_ind_vec = OneHotEncoder(inputCol=\"while_outside_us_ind_index\",outputCol=\"while_outside_us_ind_fact\")\n",
    "device_troubleshooting_assistant_ind_idx = StringIndexer(inputCol=\"device_troubleshooting_assistant_ind\",outputCol=\"device_troubleshooting_assistant_ind_index\")\n",
    "device_troubleshooting_assistant_ind_vec = OneHotEncoder(inputCol=\"device_troubleshooting_assistant_ind_index\",outputCol=\"device_troubleshooting_assistant_ind_fact\")\n",
    "cruise_travel_ind_idx = StringIndexer(inputCol=\"cruise_travel_ind\",outputCol=\"cruise_travel_ind_index\")\n",
    "cruise_travel_ind_vec = OneHotEncoder(inputCol=\"cruise_travel_ind_index\",outputCol=\"cruise_travel_ind_fact\")\n",
    "mfapp_intl_plans_visited_ind_idx = StringIndexer(inputCol=\"mfapp_intl_plans_visited_ind\",outputCol=\"mfapp_intl_plans_visited_ind_index\")\n",
    "mfapp_intl_plans_visited_ind_vec = OneHotEncoder(inputCol=\"mfapp_intl_plans_visited_ind_index\",outputCol=\"mfapp_intl_plans_visited_ind_fact\")\n",
    "mfapp_trvln_outsid_us_ind_idx = StringIndexer(inputCol=\"mfapp_trvln_outsid_us_ind\",outputCol=\"mfapp_trvln_outsid_us_ind_index\")\n",
    "mfapp_trvln_outsid_us_ind_vec = OneHotEncoder(inputCol=\"mfapp_trvln_outsid_us_ind_index\",outputCol=\"mfapp_trvln_outsid_us_ind_fact\")\n",
    "mfapp_trip_planner_ind_idx = StringIndexer(inputCol=\"mfapp_trip_planner_ind\",outputCol=\"mfapp_trip_planner_ind_index\")\n",
    "mfapp_trip_planner_ind_vec = OneHotEncoder(inputCol=\"mfapp_trip_planner_ind_index\",outputCol=\"mfapp_trip_planner_ind_fact\")\n",
    "mfapp_while_outside_us_ind_idx = StringIndexer(inputCol=\"mfapp_while_outside_us_ind\",outputCol=\"mfapp_while_outside_us_ind_index\")\n",
    "mfapp_while_outside_us_ind_vec = OneHotEncoder(inputCol=\"mfapp_while_outside_us_ind_index\",outputCol=\"mfapp_while_outside_us_ind_fact\")\n",
    "mfapp_device_troubleshooting_assistant_ind_idx = StringIndexer(inputCol=\"mfapp_device_troubleshooting_assistant_ind\",outputCol=\"mfapp_device_troubleshooting_assistant_ind_index\")\n",
    "mfapp_device_troubleshooting_assistant_ind_vec = OneHotEncoder(inputCol=\"mfapp_device_troubleshooting_assistant_ind_index\",outputCol=\"mfapp_device_troubleshooting_assistant_ind_fact\")\n",
    "mfapp_cruise_travel_ind_idx = StringIndexer(inputCol=\"mfapp_cruise_travel_ind\",outputCol=\"mfapp_cruise_travel_ind_index\")\n",
    "mfapp_cruise_travel_ind_vec = OneHotEncoder(inputCol=\"mfapp_cruise_travel_ind_index\",outputCol=\"mfapp_cruise_travel_ind_fact\")\n",
    "\n"
   ]
  },
  {
   "cell_type": "markdown",
   "metadata": {},
   "source": [
    "vec_assembler = VectorAssembler(inputCols=['bill_curr_amt','access_data_diff', 'bill_shock' ], outputCol=\"features_input\").setHandleInvalid(\"skip\")\n",
    "\n",
    "# Make the pipeline\n",
    "pipeline = Pipeline(stages=[msg_allow_share_ind_idx,msg_allow_share_ind_vec,labelIndexer,vec_assembler])"
   ]
  },
  {
   "cell_type": "markdown",
   "metadata": {},
   "source": [
    "vec_assembler = VectorAssembler(inputCols=['bill_6_mth_avg','bill_curr_amt',\n",
    " 'access_data_diff',\n",
    " 'bill_shock',\n",
    " 'access_amt_buckets',\n",
    " 'access_data_diff_buckets',\n",
    " 'feat_amt_buckets',\n",
    " 'late_pymnt_chrg_amt_buckets',\n",
    " 'occ_amt_buckets',\n",
    " 'prev_tvl_count_buckets',\n",
    " 'prev_call_count_buckets',\"tenure_fact\",\"msg_allow_share_ind_fact\",\"data_allow_share_ind_fact\",\n",
    "\"voice_allow_share_ind_fact\",\"free_plan_fact\",\"cl_desc1_fact\",\"line_type_fact\",\"tvl_pass_included_fact\",\"can_mex_free_plan_fact\",\n",
    "\"intl_plans_visited_ind_fact\",\"trvln_outsid_us_ind_fact\",\"trip_planner_ind_fact\",\"while_outside_us_ind_fact\",\n",
    "\"device_troubleshooting_assistant_ind_fact\",\"cruise_travel_ind_fact\",\"mfapp_intl_plans_visited_ind_fact\",\n",
    "\"mfapp_trvln_outsid_us_ind_fact\",\"mfapp_trip_planner_ind_fact\",\"mfapp_while_outside_us_ind_fact\",\n",
    "\"mfapp_device_troubleshooting_assistant_ind_fact\",\n",
    "\"mfapp_cruise_travel_ind_fact\" ], outputCol=\"features_input\").setHandleInvalid(\"skip\")\n",
    "\n",
    "# Make the pipeline\n",
    "pipeline = Pipeline(stages=[tenure_idx,msg_allow_share_ind_idx,data_allow_share_ind_idx,\n",
    "voice_allow_share_ind_idx,free_plan_idx,cl_desc1_idx,line_type_idx,tvl_pass_included_idx,can_mex_free_plan_idx,\n",
    "intl_plans_visited_ind_idx,trvln_outsid_us_ind_idx,trip_planner_ind_idx,while_outside_us_ind_idx,\n",
    "device_troubleshooting_assistant_ind_idx,cruise_travel_ind_idx,mfapp_intl_plans_visited_ind_idx,\n",
    "mfapp_trvln_outsid_us_ind_idx,mfapp_trip_planner_ind_idx,mfapp_while_outside_us_ind_idx,mfapp_device_troubleshooting_assistant_ind_idx,\n",
    "mfapp_cruise_travel_ind_idx,tenure_vec,msg_allow_share_ind_vec,data_allow_share_ind_vec,\n",
    "voice_allow_share_ind_vec,free_plan_vec,cl_desc1_vec,line_type_vec,tvl_pass_included_vec,can_mex_free_plan_vec,\n",
    "intl_plans_visited_ind_vec,trvln_outsid_us_ind_vec,trip_planner_ind_vec,while_outside_us_ind_vec,device_troubleshooting_assistant_ind_vec,\n",
    "cruise_travel_ind_vec,mfapp_intl_plans_visited_ind_vec,mfapp_trvln_outsid_us_ind_vec,mfapp_trip_planner_ind_vec,\n",
    "mfapp_while_outside_us_ind_vec,mfapp_device_troubleshooting_assistant_ind_vec,mfapp_cruise_travel_ind_vec,                             \n",
    "labelIndexer,vec_assembler])"
   ]
  },
  {
   "cell_type": "markdown",
   "metadata": {},
   "source": [
    "#pipeline = Pipeline(stages=indexers + encoders+[assembler]+[labelIndexer])\n",
    "model=pipeline.fit(features_final)\n",
    "transformed = model.transform(features_final)\n",
    "transformed.show(5)"
   ]
  },
  {
   "cell_type": "code",
   "execution_count": null,
   "metadata": {},
   "outputs": [],
   "source": [
    "#best_model = pipeline.fit(df)\n",
    "#best_pred = transformed.transform(df)\n",
    "\n",
    "#ransformed.schema[\"features_input\"].metadata[\"ml_attr\"][\"attrs\"]\n",
    "\n",
    "# extract features metadata\n",
    "meta = [f.metadata \n",
    "    for f in transformed.schema.fields \n",
    "    if f.name == 'features_input'][0]\n",
    "\n",
    "# access feature name and index\n",
    "features_name_ind = meta['ml_attr']['attrs']['numeric'] + meta['ml_attr']['attrs']['binary']\n",
    "\n",
    "print(features_name_ind[:2])"
   ]
  },
  {
   "cell_type": "code",
   "execution_count": null,
   "metadata": {},
   "outputs": [],
   "source": [
    "features_metadata = [x[\"name\"] for x in sorted(transformed.schema[\"features_input\"].metadata[\"ml_attr\"][\"attrs\"][\"binary\"]+\n",
    "   transformed.schema[\"features_input\"].metadata[\"ml_attr\"][\"attrs\"][\"numeric\"]+transformed.schema[\"features_input\"].metadata[\"ml_attr\"][\"attrs\"][\"nominal\"], \n",
    "   key=lambda x: x[\"idx\"])]"
   ]
  },
  {
   "cell_type": "code",
   "execution_count": null,
   "metadata": {},
   "outputs": [],
   "source": [
    "#import pandas as pd\n",
    "#pd.DataFrame(transformed.schema[\"features_input\"].metadata[\"ml_attr\"][\"attrs\"][\"binary\"]+transformed.schema[\"features_input\"].metadata[\"ml_attr\"][\"attrs\"][\"numeric\"]).sort_values(\"idx\")"
   ]
  },
  {
   "cell_type": "code",
   "execution_count": null,
   "metadata": {},
   "outputs": [],
   "source": [
    "features_metadata"
   ]
  },
  {
   "cell_type": "code",
   "execution_count": null,
   "metadata": {},
   "outputs": [],
   "source": [
    "len(features_metadata)"
   ]
  },
  {
   "cell_type": "code",
   "execution_count": null,
   "metadata": {},
   "outputs": [],
   "source": [
    "transformed.select('features_input').show(2)"
   ]
  },
  {
   "cell_type": "code",
   "execution_count": null,
   "metadata": {},
   "outputs": [],
   "source": [
    "transformed = transformed.drop(*cat_cols_list,*other_cols_list)"
   ]
  },
  {
   "cell_type": "code",
   "execution_count": null,
   "metadata": {},
   "outputs": [],
   "source": [
    "print(transformed.dtypes)"
   ]
  },
  {
   "cell_type": "code",
   "execution_count": null,
   "metadata": {},
   "outputs": [],
   "source": [
    "#transformed.limit(10).toPandas()"
   ]
  },
  {
   "cell_type": "code",
   "execution_count": null,
   "metadata": {},
   "outputs": [],
   "source": [
    "udf_numpy=udf(lambda s : np.array(s).tolist(),ArrayType(FloatType()))\n",
    "transformed=transformed.withColumn('features_input',udf_numpy('features_input'))"
   ]
  },
  {
   "cell_type": "code",
   "execution_count": null,
   "metadata": {},
   "outputs": [],
   "source": [
    "transformed.select(\"features_input\",\"label\").show(10)"
   ]
  },
  {
   "cell_type": "code",
   "execution_count": null,
   "metadata": {},
   "outputs": [],
   "source": [
    "#Pipeline(stages=indexers + encoders+assembler+labelIndexer)\n",
    "#pd.set_option('display.max_columns', 100)\n",
    "#pd.set_option('display.max_rows', 100)\n",
    "features_df = transformed.limit(1000).toPandas()\n",
    "#features_metadata"
   ]
  },
  {
   "cell_type": "code",
   "execution_count": null,
   "metadata": {},
   "outputs": [],
   "source": [
    "features_df=features_df[['mtn','features_input','label']]"
   ]
  },
  {
   "cell_type": "code",
   "execution_count": null,
   "metadata": {},
   "outputs": [],
   "source": [
    "# Unpack the list of Feature input as individual values and store it in a pandas dataframe \n",
    "input_cols = np.stack(np.array(features_df.features_input.apply(lambda s : (np.around(np.array(s), decimals=1)))))"
   ]
  },
  {
   "cell_type": "code",
   "execution_count": null,
   "metadata": {},
   "outputs": [],
   "source": [
    "import pandas as pd\n",
    "input_df = pd.DataFrame(input_cols, columns = features_metadata) "
   ]
  },
  {
   "cell_type": "code",
   "execution_count": null,
   "metadata": {},
   "outputs": [],
   "source": [
    "input_df = input_df.applymap(str)"
   ]
  },
  {
   "cell_type": "code",
   "execution_count": null,
   "metadata": {},
   "outputs": [],
   "source": [
    "input_df.head(10)"
   ]
  },
  {
   "cell_type": "code",
   "execution_count": null,
   "metadata": {},
   "outputs": [],
   "source": [
    "#df2 = df.append(features_df,sort=False)\n",
    "features_final = pd.concat([features_df['mtn'],input_df,features_df['label']], axis=1,sort=False)"
   ]
  },
  {
   "cell_type": "code",
   "execution_count": null,
   "metadata": {},
   "outputs": [],
   "source": [
    "len(features_final.columns)"
   ]
  },
  {
   "cell_type": "code",
   "execution_count": null,
   "metadata": {},
   "outputs": [],
   "source": [
    "features_final.head(10)"
   ]
  },
  {
   "cell_type": "code",
   "execution_count": null,
   "metadata": {},
   "outputs": [],
   "source": [
    "# Length of features_input column\n",
    "len(features_df['features_input'][0])"
   ]
  },
  {
   "cell_type": "code",
   "execution_count": null,
   "metadata": {},
   "outputs": [],
   "source": [
    "len(features_df['label'])"
   ]
  },
  {
   "cell_type": "code",
   "execution_count": null,
   "metadata": {},
   "outputs": [],
   "source": [
    "features_df.dtypes"
   ]
  },
  {
   "cell_type": "code",
   "execution_count": null,
   "metadata": {},
   "outputs": [],
   "source": [
    "features_final.iloc[:,1:132].head()"
   ]
  },
  {
   "cell_type": "markdown",
   "metadata": {},
   "source": [
    "# These work to pick the input and output columns\n",
    "features_df['features_input']\n",
    "features_df['label']\n",
    "features_df.iloc[:,1:2]"
   ]
  },
  {
   "cell_type": "markdown",
   "metadata": {},
   "source": [
    "X_train = np.array(features_df.features_input.apply(lambda s : np.around(np.array(s), decimals=1)))\n",
    "X_train=np.stack(X_train)\n",
    "Y_train =np.array(features_df.label.apply(lambda s : np.array(s)))"
   ]
  },
  {
   "cell_type": "code",
   "execution_count": null,
   "metadata": {},
   "outputs": [],
   "source": [
    "X_train = features_final.iloc[:,1:132]\n",
    "Y_train = features_final['label']"
   ]
  },
  {
   "cell_type": "code",
   "execution_count": null,
   "metadata": {},
   "outputs": [],
   "source": [
    "# ML Training\n",
    "from xgboost import XGBClassifier\n",
    "from sklearn.ensemble import RandomForestClassifier\n",
    "\n",
    "model_rf = RandomForestClassifier(n_estimators=5000 , oob_score = True, n_jobs = -1,\n",
    "                                  random_state =7, max_features = \"auto\",\n",
    "                                  max_leaf_nodes = 1000)\n",
    "model_rf.fit(X_train, Y_train)\n",
    "\"\"\"\n",
    "model_xgb = XGBClassifier(learning_rate =0.1, n_estimators=5000, max_depth=4, min_child_weight=1, gamma=0, subsample=0.8, colsample_bytree=0.8,\n",
    " objective= 'binary:logistic', nthread=4, scale_pos_weight=1, seed=7)\n",
    "\"\"\"\n",
    "\n"
   ]
  },
  {
   "cell_type": "code",
   "execution_count": null,
   "metadata": {},
   "outputs": [],
   "source": [
    "prediction = model_rf.predict(X_train)"
   ]
  },
  {
   "cell_type": "code",
   "execution_count": null,
   "metadata": {},
   "outputs": [],
   "source": [
    "prediction"
   ]
  },
  {
   "cell_type": "code",
   "execution_count": null,
   "metadata": {},
   "outputs": [],
   "source": [
    "features_final.iloc[:,1:132].head()"
   ]
  },
  {
   "cell_type": "code",
   "execution_count": null,
   "metadata": {},
   "outputs": [],
   "source": [
    "# 1. Batch + Real-time input list to Streams\n",
    "features_final.iloc[:,0:132].to_csv(\"features_final_v1.csv\")\n",
    "! hdfs dfs -put features_final_v1.csv hdfs://polarisgq-nn1.gq.vcg.yahoo.com:8020/user/kreddy01/Intl_caller_intent_pred_model/Features_batch/"
   ]
  },
  {
   "cell_type": "code",
   "execution_count": null,
   "metadata": {},
   "outputs": [],
   "source": [
    "# 2. Save model and create a .pkl file\n",
    "import pickle\n",
    "filename = 'rt_model_v1.pkl'\n",
    "pickle.dump(model_rf,open(filename,'wb'))\n",
    "! hdfs dfs -put rt_model_v1.pkl hdfs://polarisgq-nn1.gq.vcg.yahoo.com:8020/user/kreddy01/Intl_caller_intent_pred_model/Features_batch/"
   ]
  },
  {
   "cell_type": "code",
   "execution_count": null,
   "metadata": {},
   "outputs": [],
   "source": [
    "# Validating the .pkl file\n",
    "loaded_model = pickle.load(open(filename, 'rb'))\n",
    "result = loaded_model.score(X_train, Y_train)\n",
    "result"
   ]
  },
  {
   "cell_type": "code",
   "execution_count": null,
   "metadata": {},
   "outputs": [],
   "source": [
    "# 3. Save the features_df as JSON to create a table in Cassandra\n",
    "features_df_JSON = features_final.to_json(r'features_df_JSON_v1.json', orient='records')\n",
    "! hdfs dfs -put features_df_JSON_v1.json hdfs://polarisgq-nn1.gq.vcg.yahoo.com:8020/user/kreddy01/Intl_caller_intent_pred_model/Features_batch/"
   ]
  },
  {
   "cell_type": "code",
   "execution_count": null,
   "metadata": {},
   "outputs": [],
   "source": [
    "#******End of Code*************"
   ]
  }
 ],
 "metadata": {
  "kernel_args": {
   "conf": {
    "spark.driver.maxResultSize": "10g",
    "spark.driver.memoryOverhead": "36g",
    "spark.executor.memoryOverhead": "36g",
    "spark.oath.dockerImage": "hadoop/rhel7_mlbundle:current"
   },
   "driver-cores": "12",
   "driver-memory": "36g",
   "executor-cores": "16",
   "executor-memory": "64g",
   "files": [
    "hdfs:///user/kreddy01/Intl_caller_intent_pred_model/"
   ],
   "num-executors": "150",
   "version": "current"
  },
  "kernelspec": {
   "display_name": "PySpark 3 (Beta)",
   "language": "",
   "name": "pysparkkernel3"
  },
  "language_info": {
   "codemirror_mode": {
    "name": "python",
    "version": 3
   },
   "mimetype": "text/x-python",
   "name": "pyspark3",
   "pygments_lexer": "ipython2",
   "version": "1.0"
  }
 },
 "nbformat": 4,
 "nbformat_minor": 2
}