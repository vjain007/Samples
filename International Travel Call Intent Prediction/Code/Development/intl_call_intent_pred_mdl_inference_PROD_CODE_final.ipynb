{
 "cells": [
  {
   "cell_type": "markdown",
   "metadata": {},
   "source": [
    "## Description: This is International caller intent predictive model. This model has 4 predictives : billing, plan_travelpass,phone_settings,cruise"
   ]
  },
  {
   "cell_type": "markdown",
   "metadata": {},
   "source": [
    "## Import all the required libraries"
   ]
  },
  {
   "cell_type": "code",
   "execution_count": null,
   "metadata": {},
   "outputs": [],
   "source": [
    "from pyspark.sql.functions import *\n",
    "from pyspark.sql.types import *\n",
    "from pyspark.ml.feature import *\n",
    "import pandas\n",
    "from pyspark.ml import Pipeline, PipelineModel\n",
    "from pyspark.ml.classification import  RandomForestClassifier,RandomForestClassificationModel\n",
    "import numpy as np\n",
    "from pyspark.ml.linalg import *\n",
    "from pyspark.ml.linalg import Vectors, VectorUDT"
   ]
  },
  {
   "cell_type": "code",
   "execution_count": null,
   "metadata": {},
   "outputs": [],
   "source": [
    "import pandas as pd\n",
    "import numpy as np\n",
    "from sklearn.metrics import confusion_matrix\n",
    "from pyspark.ml.evaluation import MulticlassClassificationEvaluator\n",
    "from pyspark.sql.functions import *\n",
    "from pyspark.sql.types import *\n",
    "from sklearn.metrics import confusion_matrix\n",
    "\n",
    "from pyspark.sql.functions import concat, col, lit\n",
    "\n",
    "from pyspark.context import SparkContext\n",
    "from pyspark.sql.session import SparkSession\n",
    "sc = SparkContext.getOrCreate()\n",
    "spark = SparkSession(sc)\n",
    "\n",
    "from pyspark.sql import SQLContext\n",
    "sqlContext = SQLContext(sc)\n",
    "pd.set_option('display.max_columns', None)\n",
    "pd.set_option('display.max_rows', None)"
   ]
  },
  {
   "cell_type": "code",
   "execution_count": null,
   "metadata": {},
   "outputs": [],
   "source": [
    "data_all = spark.sql(\"select  mtn,ivrcallid, day(end_tm_local) AS process_date from vzw_cja_prd_tbls.verint_call_transcripts_raw where day(end_tm_local)>14 AND month(end_tm_local)=11 AND year(end_tm_local)=2019\")\n",
    "driverDF_all= spark.sql(\"SELECT ivr_id AS ivrcallid, primary_topic as primary,secondary_topic, day(START_TM_LOCAL) AS process_date FROM vzw_soi_prd_tbls.vzsoi_intl_calltopics_v1 where day(START_TM_LOCAL)>14 AND month(START_TM_LOCAL)=11 AND year(START_TM_LOCAL)=2019\")\n",
    "joinDF= data_all.join(driverDF_all,on=['ivrcallid','process_date'],how='inner').dropDuplicates(['ivrcallid'])"
   ]
  },
  {
   "cell_type": "code",
   "execution_count": null,
   "metadata": {},
   "outputs": [],
   "source": [
    "joinDF.dtypes"
   ]
  },
  {
   "cell_type": "code",
   "execution_count": null,
   "metadata": {},
   "outputs": [],
   "source": [
    "split_col = split(joinDF['mtn'], '-')\n",
    "joinDF = joinDF.withColumn('mtn1', split_col.getItem(0))\n",
    "joinDF = joinDF.withColumn('mtn2', split_col.getItem(1))\n",
    "joinDF = joinDF.withColumn('mtn3',split_col.getItem(2))\n",
    "topictable=joinDF.withColumn(\"mtnconcat\",concat(col(\"mtn1\"), lit(\"\"), col(\"mtn2\"),lit(\"\"),col(\"mtn3\")))"
   ]
  },
  {
   "cell_type": "markdown",
   "metadata": {},
   "source": [
    "## Load daily batch data and perform feature transformation"
   ]
  },
  {
   "cell_type": "code",
   "execution_count": null,
   "metadata": {},
   "outputs": [],
   "source": [
    "### Load customers who travelled_atleast_once and bill_curr_amt is not null############\n",
    "features_all = spark.sql(\"select  mtn as mtnconcat,to_date(process_dt) as call_start_tm_stmp,day(to_date(process_dt)) as process_date, * from VZW_SOI_PRD_TBLS.vzsoi_intl_dly_scoring_batch_tbl where day(to_date(process_dt))>14 AND month(to_date(process_dt))=11 AND year(to_date(process_dt))=2019\")"
   ]
  },
  {
   "cell_type": "code",
   "execution_count": null,
   "metadata": {},
   "outputs": [],
   "source": [
    "ValidationDF= features_all.join(topictable,on=['mtnconcat','process_date'],how='inner')"
   ]
  },
  {
   "cell_type": "code",
   "execution_count": null,
   "metadata": {},
   "outputs": [],
   "source": [
    "ValidationDF.count()"
   ]
  },
  {
   "cell_type": "code",
   "execution_count": null,
   "metadata": {},
   "outputs": [],
   "source": [
    "features_all.show(10)"
   ]
  },
  {
   "cell_type": "code",
   "execution_count": null,
   "metadata": {},
   "outputs": [],
   "source": [
    "features = ValidationDF.select('mtnconcat','call_start_tm_stmp','tenure','pplan_eff_dt',\n",
    "                            'prepaid_ind','access_amt','data_access_amt','feat_amt','late_pymnt_chrg_amt',\n",
    "                            'occ_amt','bill_6_mth_avg','bill_curr_amt','msg_allow_share_ind','data_allow_share_ind',\n",
    "                            'voice_allow_share_ind', 'bill_cycle_dt','free_plan','ccd1','call_ts1',\n",
    "                            'tvl1','cl_desc1','primary1_topic','primary2_topic','primary3_topic','primary4_topic',\n",
    "                            'primary5_topic','line_type','tvl_pass_included','can_mex_free_plan','prev_tvl_count',\n",
    "                            'prev_call_count',\"plans_visited_ind\",\n",
    "                            \"intl_plans_visited_ind\",\n",
    "                            \"trvln_outsid_us_ind\",\n",
    "                            \"trip_planner_ind\",\"while_outside_us_ind\",\"support_ind\",\"billing_and_payment_ind\",\n",
    "                            \"plan_and_account_ind\",\"device_troubleshooting_assistant_ind\",\"international_services_ind\",\n",
    "                            \"bill_ind\",\"overview_ind\",\"next_bill_estimate_ind\",\"payment_history_ind\",\"family_controls_ind\",\n",
    "                            \"mfapp_plans_visited_ind\",\"mfapp_intl_plans_visited_ind\",\"mfapp_trvln_outsid_us_ind\",\n",
    "                            \"mfapp_trip_planner_ind\",\"mfapp_while_outside_us_ind\",\"mfapp_support_ind\",\"mfapp_billing_and_payment_ind\",\n",
    "                            \"mfapp_plan_and_account_ind\",\"mfapp_device_troubleshooting_assistant_ind\",\"mfapp_international_services_ind\",\n",
    "                            \"mfapp_bill_ind\",\"mfapp_overview_ind\",\"mfapp_next_bill_estimate_ind\",\"mfapp_payment_history_ind\",\n",
    "                            \"mfapp_family_controls_ind\",\"process_dt\",\"process_date\",\"primary\")"
   ]
  },
  {
   "cell_type": "code",
   "execution_count": null,
   "metadata": {},
   "outputs": [],
   "source": [
    "#features.dtypes"
   ]
  },
  {
   "cell_type": "code",
   "execution_count": null,
   "metadata": {},
   "outputs": [],
   "source": [
    "features=features.filter(features.prev_tvl_count!=0)"
   ]
  },
  {
   "cell_type": "code",
   "execution_count": null,
   "metadata": {},
   "outputs": [],
   "source": [
    "#features = features.withColumn('age', features['age'].cast(DoubleType()))\n",
    "features = features.withColumn('prev_tvl_count', features['prev_tvl_count'].cast(DoubleType()))\n",
    "features = features.withColumn('prev_call_count', features['prev_call_count'].cast(DoubleType()))\n",
    "features = features.withColumn('access_amt', features['access_amt'].cast(FloatType()))\n",
    "features = features.withColumn('data_access_amt', features['data_access_amt'].cast(FloatType()))\n",
    "features = features.withColumn('feat_amt', features['feat_amt'].cast(FloatType()))\n",
    "features = features.withColumn('late_pymnt_chrg_amt', features['late_pymnt_chrg_amt'].cast(FloatType()))\n",
    "features = features.withColumn('occ_amt', features['occ_amt'].cast(FloatType()))\n",
    "features = features.withColumn('bill_6_mth_avg', features['bill_6_mth_avg'].cast(FloatType()))\n",
    "features = features.withColumn('bill_curr_amt', features['bill_curr_amt'].cast(FloatType()))"
   ]
  },
  {
   "cell_type": "code",
   "execution_count": null,
   "metadata": {},
   "outputs": [],
   "source": [
    "features = features.withColumn('bill_6_mth_avg', when(features['bill_6_mth_avg'].isNull(), 0).otherwise(col('bill_6_mth_avg')))\n",
    "features = features.withColumn('bill_curr_amt', when(features['bill_curr_amt'].isNull(), 0).otherwise(col('bill_curr_amt')))\n",
    "features = features.withColumn('prev_tvl_count', when(features['prev_tvl_count'].isNull(), 0).otherwise(col('prev_tvl_count')))\n",
    "features = features.withColumn('prev_call_count', when(features['prev_call_count'].isNull(), 0).otherwise(col('prev_call_count')))"
   ]
  },
  {
   "cell_type": "code",
   "execution_count": null,
   "metadata": {},
   "outputs": [],
   "source": [
    "features=features.withColumn('free_plan',lower(features['free_plan']))\n",
    "features = features.withColumn('free_plan', when(features['free_plan'].isNull(), 'paid').otherwise(col('free_plan')))"
   ]
  },
  {
   "cell_type": "code",
   "execution_count": null,
   "metadata": {},
   "outputs": [],
   "source": [
    "features=features.withColumn('access_data_diff',features['access_amt']-features['data_access_amt'])\n",
    "features=features.withColumn('bill_shock',(features['bill_curr_amt']-features['bill_6_mth_avg'])/features['bill_6_mth_avg'])"
   ]
  },
  {
   "cell_type": "code",
   "execution_count": null,
   "metadata": {},
   "outputs": [],
   "source": [
    "####Replaced with median values from training dataset\n",
    "features = features.withColumn('access_amt', when(features['access_amt'].isNull(), 35).otherwise(col('access_amt')))\n",
    "features = features.withColumn('data_access_amt', when(features['data_access_amt'].isNull(), 35).otherwise(col('data_access_amt')))\n",
    "features = features.withColumn('feat_amt', when(features['feat_amt'].isNull(), 10).otherwise(col('feat_amt')))\n",
    "features = features.withColumn('late_pymnt_chrg_amt', when(features['late_pymnt_chrg_amt'].isNull(), 0).otherwise(col('late_pymnt_chrg_amt')))\n",
    "features = features.withColumn('occ_amt', when(features['occ_amt'].isNull(), 0).otherwise(col('occ_amt')))\n",
    "features = features.withColumn('bill_6_mth_avg', when(features['bill_6_mth_avg'].isNull(), 204.53).otherwise(col('bill_6_mth_avg')))\n",
    "features = features.withColumn('bill_curr_amt', when(features['bill_curr_amt'].isNull(), 230.5).otherwise(col('bill_curr_amt')))\n",
    "features = features.withColumn('prev_tvl_count', when(features['prev_tvl_count'].isNull(), 1).otherwise(col('prev_tvl_count')))\n",
    "features = features.withColumn('prev_call_count', when(features['prev_call_count'].isNull(), 0).otherwise(col('prev_call_count')))\n",
    "features = features.withColumn('access_data_diff', when(features['access_data_diff'].isNull(),0).otherwise(col('access_data_diff')))\n",
    "features = features.withColumn('bill_shock', when(features['bill_shock'].isNull(), 0.033).otherwise(col('bill_shock')))"
   ]
  },
  {
   "cell_type": "code",
   "execution_count": null,
   "metadata": {},
   "outputs": [],
   "source": [
    "features=features.withColumn('tvl1_call1',datediff('call_start_tm_stmp','tvl1'))\n",
    "features=features.withColumn('bill_call1',datediff('call_start_tm_stmp','bill_cycle_dt'))"
   ]
  },
  {
   "cell_type": "code",
   "execution_count": null,
   "metadata": {},
   "outputs": [],
   "source": [
    "features = features.withColumn('tvl1_call1', when(features['tvl1_call1'].isNull(), 60).otherwise(col('tvl1_call1')))\n",
    "features = features.withColumn('bill_call1', when(features['bill_call1'].isNull(), 60).otherwise(col('bill_call1')))"
   ]
  },
  {
   "cell_type": "code",
   "execution_count": null,
   "metadata": {},
   "outputs": [],
   "source": [
    "features = features.withColumn('msg_allow_share_ind', when(features['msg_allow_share_ind'].isNull(), 'Unknown').otherwise(col('msg_allow_share_ind')))\n",
    "features = features.withColumn('data_allow_share_ind', when(features['data_allow_share_ind'].isNull(), 'Unknown').otherwise(col('data_allow_share_ind')))\n",
    "features = features.withColumn('voice_allow_share_ind', when(features['voice_allow_share_ind'].isNull(), 'Unknown').otherwise(col('voice_allow_share_ind')))\n",
    "features = features.withColumn('ccd1', when(features['ccd1'].isNull(), 'Unknown').otherwise(col('ccd1')))\n",
    "features = features.withColumn('free_plan', when(features['free_plan'].isNull(), 'Unknown').otherwise(col('free_plan')))\n",
    "features = features.withColumn('cl_desc1', when(features['cl_desc1'].isNull(), 'Unknown').otherwise(col('cl_desc1')))\n",
    "features = features.withColumn('line_type', when(features['line_type'].isNull(), 'Unknown').otherwise(col('line_type')))\n",
    "features = features.withColumn('tvl_pass_included', when(features['tvl_pass_included'].isNull(), 'Unknown').otherwise(col('tvl_pass_included')))\n",
    "features = features.withColumn('can_mex_free_plan', when(features['can_mex_free_plan'].isNull(), 'Unknown').otherwise(col('can_mex_free_plan')))"
   ]
  },
  {
   "cell_type": "code",
   "execution_count": null,
   "metadata": {},
   "outputs": [],
   "source": [
    "features = features.withColumn('ccd1', when((col('ccd1') =='BHS')| (col('ccd1') =='DOM')|(col('ccd1') =='BRB')|(col('ccd1') =='LCA')| (col('ccd1') =='VGB')|(col('ccd1') =='TCA')|(col('ccd1') =='CUR')|(col('ccd1') =='GRD')|(col('ccd1') =='ATG')|(col('ccd1') =='BMU')|(col('ccd1') =='JAM')| (col('ccd1') =='CRI')| (col('ccd1') =='CUB')| (col('ccd1') =='KNA')|(col('ccd1') =='TTO')|(col('ccd1') =='HTI')| (col('ccd1') =='ABW'),'CARR').otherwise(col('ccd1')))\n",
    "features = features.withColumn('ccd1', when((col('ccd1') =='ITA')| (col('ccd1') =='HUN')| (col('ccd1') =='DNK')| (col('ccd1') =='NOR')| (col('ccd1') =='CZE')| (col('ccd1') =='BEL')| (col('ccd1') =='ISL')| (col('ccd1') =='PRT')| (col('ccd1') =='POL')| (col('ccd1') =='FRA')| (col('ccd1') =='DEU')| (col('ccd1') =='NLD')| (col('ccd1') =='ESP')| (col('ccd1') =='AUT')| (col('ccd1') =='CHE'),'SCH').otherwise(col('ccd1')))\n",
    "features = features.withColumn('ccd1', when((col('ccd1') =='IND')| (col('ccd1') =='THA')| (col('ccd1') =='CHN')| (col('ccd1') =='AUS')| (col('ccd1') =='JPN')| (col('ccd1') =='HKG'),'APAC').otherwise(col('ccd1')))\n",
    "\n",
    "\n",
    "features = features.withColumn('ccd1', when((col('ccd1') !='SCH')& (col('ccd1') !='CARR')& (col('ccd1') !='AAA')\n",
    "                                                    & (col('ccd1') !='MEX')& (col('ccd1') !='CAN')& (col('ccd1') !='APAC')& (col('ccd1') !='CSP'),\n",
    "                                                    'Others').otherwise(col('ccd1')))"
   ]
  },
  {
   "cell_type": "code",
   "execution_count": null,
   "metadata": {},
   "outputs": [],
   "source": [
    "tvl1_call1_bucketizer = Bucketizer(splits=[float('-Inf'), 0,1,2,7,30,float('Inf') ],inputCol=\"tvl1_call1\", outputCol=\"tvl1_call1_buckets\")\n",
    "bill_call1_bucketizer = Bucketizer(splits=[float('-Inf'), 0,1,2,7,30,float('Inf') ],inputCol=\"bill_call1\", outputCol=\"bill_call1_buckets\")\n",
    "access_amt_bucketizer = Bucketizer(splits=[float('-Inf'), 0,10,50,100,150,float('Inf') ],inputCol=\"access_amt\", outputCol=\"access_amt_buckets\")\n",
    "access_data_diff_bucketizer = Bucketizer(splits=[float('-Inf'),0,5,10,float('Inf') ],inputCol=\"access_data_diff\", outputCol=\"access_data_diff_buckets\")\n",
    "feat_amt_bucketizer = Bucketizer(splits=[float('-Inf'), 0,10,20,100,float('Inf') ],inputCol=\"feat_amt\", outputCol=\"feat_amt_buckets\")\n",
    "late_pymnt_chrg_amt_bucketizer = Bucketizer(splits=[float('-Inf'), 0,5,10,float('Inf') ],inputCol=\"late_pymnt_chrg_amt\", outputCol=\"late_pymnt_chrg_amt_buckets\")\n",
    "occ_amt_bucketizer = Bucketizer(splits=[float('-Inf'), -10,0,10,float('Inf') ],inputCol=\"occ_amt\", outputCol=\"occ_amt_buckets\")\n",
    "prev_tvl_count_bucketizer = Bucketizer(splits=[float('-Inf'), 0,1,2,3,5,10,float('Inf') ],inputCol=\"prev_tvl_count\", outputCol=\"prev_tvl_count_buckets\")\n",
    "prev_call_count_bucketizer = Bucketizer(splits=[float('-Inf'), 0,1,2,3,5,10,float('Inf') ],inputCol=\"prev_call_count\", outputCol=\"prev_call_count_buckets\")"
   ]
  },
  {
   "cell_type": "code",
   "execution_count": null,
   "metadata": {},
   "outputs": [],
   "source": [
    "features= tvl1_call1_bucketizer.setHandleInvalid(\"keep\").transform(features)\n",
    "features= bill_call1_bucketizer.setHandleInvalid(\"keep\").transform(features)\n",
    "features= access_amt_bucketizer.setHandleInvalid(\"keep\").transform(features)\n",
    "features= access_data_diff_bucketizer.setHandleInvalid(\"keep\").transform(features)\n",
    "features= feat_amt_bucketizer.setHandleInvalid(\"keep\").transform(features)\n",
    "features= late_pymnt_chrg_amt_bucketizer.setHandleInvalid(\"keep\").transform(features)\n",
    "features= occ_amt_bucketizer.setHandleInvalid(\"keep\").transform(features)\n",
    "features= prev_tvl_count_bucketizer.setHandleInvalid(\"keep\").transform(features)\n",
    "features= prev_call_count_bucketizer.setHandleInvalid(\"keep\").transform(features)"
   ]
  },
  {
   "cell_type": "code",
   "execution_count": null,
   "metadata": {},
   "outputs": [],
   "source": [
    "features = features.withColumn('primary1_topic', when(features['primary1_topic'].isNull(), 'Unknown').otherwise(col('primary1_topic')))\n",
    "features = features.withColumn('primary1_topic', when((col('primary1_topic') =='FRAUD')| (col('primary1_topic') =='STOLEN & DAMAGED'),'PLAN & TRAVEL PASS').otherwise(col('primary1_topic')))\n",
    "features = features.withColumn('primary1_topic', when(col('primary1_topic') =='PHONE SETTINGS','phone_settings').otherwise(col('primary1_topic')))\n",
    "features = features.withColumn('primary1_topic', when(col('primary1_topic') =='BILLING','billing').otherwise(col('primary1_topic')))\n",
    "features = features.withColumn('primary1_topic', when(col('primary1_topic') =='CRUISE','cruise').otherwise(col('primary1_topic')))\n",
    "features = features.withColumn('primary1_topic', when(col('primary1_topic') =='PLAN & TRAVEL PASS','plan_travelpass').otherwise(col('primary1_topic')))"
   ]
  },
  {
   "cell_type": "code",
   "execution_count": null,
   "metadata": {},
   "outputs": [],
   "source": [
    "#####Copied temporary primary1_topic to primary_topic\n",
    "features=features.withColumn('primary_topic',col('primary1_topic'))\n",
    "features = features.withColumn('primary_topic', when(col('primary_topic') =='Unknown','plan_travelpass').otherwise(col('primary_topic')))"
   ]
  },
  {
   "cell_type": "code",
   "execution_count": null,
   "metadata": {},
   "outputs": [],
   "source": [
    "features = features.withColumn('primary2_topic', when(features['primary2_topic'].isNull(), 'Unknown').otherwise(col('primary2_topic')))\n",
    "features = features.withColumn('primary2_topic', when((col('primary2_topic') =='FRAUD')| (col('primary2_topic') =='STOLEN & DAMAGED'),'PLAN & TRAVEL PASS').otherwise(col('primary2_topic')))\n",
    "features = features.withColumn('primary2_topic', when(col('primary2_topic') =='PHONE SETTINGS','phone_settings').otherwise(col('primary2_topic')))\n",
    "features = features.withColumn('primary2_topic', when(col('primary2_topic') =='BILLING','billing').otherwise(col('primary2_topic')))\n",
    "features = features.withColumn('primary2_topic', when(col('primary2_topic') =='CRUISE','cruise').otherwise(col('primary2_topic')))\n",
    "features = features.withColumn('primary2_topic', when(col('primary2_topic') =='PLAN & TRAVEL PASS','plan_travelpass').otherwise(col('primary2_topic')))"
   ]
  },
  {
   "cell_type": "code",
   "execution_count": null,
   "metadata": {},
   "outputs": [],
   "source": [
    "features = features.withColumn('primary3_topic', when(features['primary3_topic'].isNull(), 'Unknown').otherwise(col('primary3_topic')))\n",
    "features = features.withColumn('primary3_topic', when((col('primary3_topic') =='FRAUD')| (col('primary3_topic') =='STOLEN & DAMAGED'),'PLAN & TRAVEL PASS').otherwise(col('primary3_topic')))\n",
    "features = features.withColumn('primary3_topic', when(col('primary3_topic') =='PHONE SETTINGS','phone_settings').otherwise(col('primary3_topic')))\n",
    "features = features.withColumn('primary3_topic', when(col('primary3_topic') =='BILLING','billing').otherwise(col('primary3_topic')))\n",
    "features = features.withColumn('primary3_topic', when(col('primary3_topic') =='CRUISE','cruise').otherwise(col('primary3_topic')))\n",
    "features = features.withColumn('primary3_topic', when(col('primary3_topic') =='PLAN & TRAVEL PASS','plan_travelpass').otherwise(col('primary3_topic')))"
   ]
  },
  {
   "cell_type": "code",
   "execution_count": null,
   "metadata": {},
   "outputs": [],
   "source": [
    "features = features.withColumn('primary4_topic', when(features['primary4_topic'].isNull(), 'Unknown').otherwise(col('primary4_topic')))\n",
    "features = features.withColumn('primary4_topic', when((col('primary4_topic') =='FRAUD')| (col('primary4_topic') =='STOLEN & DAMAGED'),'PLAN & TRAVEL PASS').otherwise(col('primary4_topic')))\n",
    "features = features.withColumn('primary4_topic', when(col('primary4_topic') =='PHONE SETTINGS','phone_settings').otherwise(col('primary4_topic')))\n",
    "features = features.withColumn('primary4_topic', when(col('primary4_topic') =='BILLING','billing').otherwise(col('primary4_topic')))\n",
    "features = features.withColumn('primary4_topic', when(col('primary4_topic') =='CRUISE','cruise').otherwise(col('primary4_topic')))\n",
    "features = features.withColumn('primary4_topic', when(col('primary4_topic') =='PLAN & TRAVEL PASS','plan_travelpass').otherwise(col('primary4_topic')))"
   ]
  },
  {
   "cell_type": "code",
   "execution_count": null,
   "metadata": {},
   "outputs": [],
   "source": [
    "features = features.withColumn('primary5_topic', when(features['primary5_topic'].isNull(), 'Unknown').otherwise(col('primary5_topic')))\n",
    "features = features.withColumn('primary5_topic', when((col('primary5_topic') =='FRAUD')| (col('primary5_topic') =='STOLEN & DAMAGED'),'PLAN & TRAVEL PASS').otherwise(col('primary5_topic')))\n",
    "features = features.withColumn('primary5_topic', when(col('primary5_topic') =='PHONE SETTINGS','phone_settings').otherwise(col('primary5_topic')))\n",
    "features = features.withColumn('primary5_topic', when(col('primary5_topic') =='BILLING','billing').otherwise(col('primary5_topic')))\n",
    "features = features.withColumn('primary5_topic', when(col('primary5_topic') =='CRUISE','cruise').otherwise(col('primary5_topic')))\n",
    "features = features.withColumn('primary5_topic', when(col('primary5_topic') =='PLAN & TRAVEL PASS','plan_travelpass').otherwise(col('primary5_topic')))"
   ]
  },
  {
   "cell_type": "code",
   "execution_count": null,
   "metadata": {},
   "outputs": [],
   "source": [
    "#features.dtypes"
   ]
  },
  {
   "cell_type": "markdown",
   "metadata": {},
   "source": [
    "## Load data pipeline object which will perform pre-processing functions"
   ]
  },
  {
   "cell_type": "code",
   "execution_count": null,
   "metadata": {},
   "outputs": [],
   "source": [
    "#In prodcution env. the path will be hdfs path where the object is stored\n",
    "#from pyspark.ml import Pipeline, PipelineModel\n",
    "#load_dataset_pipe = PipelineModel.load('/user/vjain01/final_sc_11_11_2019')\n",
    "load_dataset_pipe = PipelineModel.load('/user/vjain01/Intl_caller_intent_pred_model/intl_call_intent_pred_mdl_datapipeline')"
   ]
  },
  {
   "cell_type": "code",
   "execution_count": null,
   "metadata": {},
   "outputs": [],
   "source": [
    "testing_datapipe=load_dataset_pipe.transform(features)"
   ]
  },
  {
   "cell_type": "markdown",
   "metadata": {},
   "source": [
    "## Load previously trained ML model object"
   ]
  },
  {
   "cell_type": "markdown",
   "metadata": {},
   "source": [
    "## Predictions on new batch data based on trained model"
   ]
  },
  {
   "cell_type": "code",
   "execution_count": null,
   "metadata": {},
   "outputs": [],
   "source": []
  },
  {
   "cell_type": "code",
   "execution_count": null,
   "metadata": {},
   "outputs": [],
   "source": [
    "rfgModel=RandomForestClassificationModel.load('/user/vjain01/Intl_caller_intent_pred_model/intl_call_intent_pred_mdl_rf_object')"
   ]
  },
  {
   "cell_type": "code",
   "execution_count": null,
   "metadata": {},
   "outputs": [],
   "source": [
    "predictions_all_labels = rfgModel.transform(testing_datapipe)"
   ]
  },
  {
   "cell_type": "code",
   "execution_count": null,
   "metadata": {},
   "outputs": [],
   "source": [
    "predictions_all_labels.dtypes"
   ]
  },
  {
   "cell_type": "code",
   "execution_count": null,
   "metadata": {},
   "outputs": [],
   "source": [
    "predictions_all_labels=predictions_all_labels.drop('primary_topic')"
   ]
  },
  {
   "cell_type": "code",
   "execution_count": null,
   "metadata": {},
   "outputs": [],
   "source": [
    "predictions_all_labels.show(10)"
   ]
  },
  {
   "cell_type": "code",
   "execution_count": null,
   "metadata": {},
   "outputs": [],
   "source": [
    "predictions_norm=predictions_all_labels.select('mtnconcat','normalised_probability','process_date','Prediction_Index','primary')"
   ]
  },
  {
   "cell_type": "code",
   "execution_count": null,
   "metadata": {},
   "outputs": [],
   "source": [
    "predictions_norm.dtypes"
   ]
  },
  {
   "cell_type": "code",
   "execution_count": null,
   "metadata": {},
   "outputs": [],
   "source": [
    "#predictions_norm.write.parquet(\"/user/kreddy01/Intl_caller_intent_pred_model/predictions_norm.parquet\")"
   ]
  },
  {
   "cell_type": "code",
   "execution_count": null,
   "metadata": {},
   "outputs": [],
   "source": [
    "predictions_norm.count()"
   ]
  },
  {
   "cell_type": "code",
   "execution_count": null,
   "metadata": {},
   "outputs": [],
   "source": [
    "udf_object_0=udf(lambda s: np.around(np.array([np.amax(np.array(s))]),decimals=5).tolist(),ArrayType(DoubleType()))\n",
    "udf_object_1=udf(lambda s: float(s[0]),FloatType())"
   ]
  },
  {
   "cell_type": "code",
   "execution_count": null,
   "metadata": {},
   "outputs": [],
   "source": [
    "predictions_norm = predictions_norm.withColumn('max_probability',udf_object_1(udf_object_0('normalised_probability')))"
   ]
  },
  {
   "cell_type": "code",
   "execution_count": null,
   "metadata": {},
   "outputs": [],
   "source": [
    "udf_object_0t=udf(lambda s: np.around(np.array([np.array(s)[0]]),decimals=5).tolist(),ArrayType(DoubleType()))\n",
    "udf_object_1t=udf(lambda s: float(s[0]),FloatType())"
   ]
  },
  {
   "cell_type": "code",
   "execution_count": null,
   "metadata": {},
   "outputs": [],
   "source": [
    "udf_object_0b=udf(lambda s: np.around(np.array([np.array(s)[1]]),decimals=5).tolist(),ArrayType(DoubleType()))\n",
    "udf_object_1b=udf(lambda s: float(s[0]),FloatType())"
   ]
  },
  {
   "cell_type": "code",
   "execution_count": null,
   "metadata": {},
   "outputs": [],
   "source": [
    "udf_object_0c=udf(lambda s: np.around(np.array([np.array(s)[2]]),decimals=5).tolist(),ArrayType(DoubleType()))\n",
    "udf_object_1c=udf(lambda s: float(s[0]),FloatType())"
   ]
  },
  {
   "cell_type": "code",
   "execution_count": null,
   "metadata": {},
   "outputs": [],
   "source": [
    "udf_object_0p=udf(lambda s: np.around(np.array([np.array(s)[3]]),decimals=5).tolist(),ArrayType(DoubleType()))\n",
    "udf_object_1p=udf(lambda s: float(s[0]),FloatType())"
   ]
  },
  {
   "cell_type": "code",
   "execution_count": null,
   "metadata": {},
   "outputs": [],
   "source": [
    "predictions_norm = predictions_norm.withColumn('tp',udf_object_1t(udf_object_0t('normalised_probability')))"
   ]
  },
  {
   "cell_type": "code",
   "execution_count": null,
   "metadata": {},
   "outputs": [],
   "source": [
    "predictions_norm = predictions_norm.withColumn('b',udf_object_1b(udf_object_0b('normalised_probability')))"
   ]
  },
  {
   "cell_type": "code",
   "execution_count": null,
   "metadata": {},
   "outputs": [],
   "source": [
    "predictions_norm = predictions_norm.withColumn('c',udf_object_1c(udf_object_0c('normalised_probability')))"
   ]
  },
  {
   "cell_type": "code",
   "execution_count": null,
   "metadata": {},
   "outputs": [],
   "source": [
    "predictions_norm = predictions_norm.withColumn('p',udf_object_1p(udf_object_0p('normalised_probability')))"
   ]
  },
  {
   "cell_type": "code",
   "execution_count": null,
   "metadata": {},
   "outputs": [],
   "source": [
    "predictions_norm.count()"
   ]
  },
  {
   "cell_type": "code",
   "execution_count": null,
   "metadata": {},
   "outputs": [],
   "source": [
    "predictions_pandas=predictions_norm.toPandas()"
   ]
  },
  {
   "cell_type": "code",
   "execution_count": null,
   "metadata": {},
   "outputs": [],
   "source": [
    "predictions_norm.dtypes"
   ]
  },
  {
   "cell_type": "code",
   "execution_count": null,
   "metadata": {},
   "outputs": [],
   "source": [
    "from matplotlib.pyplot import plot as plt"
   ]
  },
  {
   "cell_type": "code",
   "execution_count": null,
   "metadata": {},
   "outputs": [],
   "source": [
    "import numpy as np"
   ]
  },
  {
   "cell_type": "code",
   "execution_count": null,
   "metadata": {},
   "outputs": [],
   "source": [
    "tp_hist,tp_bins=np.histogram(predictions_pandas['tp'],bins=100)\n",
    "b_hist,b_bins=np.histogram(predictions_pandas['b'],bins=100)\n",
    "c_hist,c_bins=np.histogram(predictions_pandas['c'],bins=100)\n",
    "p_hist,p_bins=np.histogram(predictions_pandas['p'],bins=100)"
   ]
  },
  {
   "cell_type": "code",
   "execution_count": null,
   "metadata": {},
   "outputs": [],
   "source": [
    "tp_cum=np.cumsum(tp_hist)\n",
    "b_cum=np.cumsum(b_hist)\n",
    "c_cum=np.cumsum(c_hist)\n",
    "p_cum=np.cumsum(p_hist)"
   ]
  },
  {
   "cell_type": "code",
   "execution_count": null,
   "metadata": {},
   "outputs": [],
   "source": [
    "import pandas as pd"
   ]
  },
  {
   "cell_type": "code",
   "execution_count": null,
   "metadata": {},
   "outputs": [],
   "source": [
    "plt(tp_bins[:100],tp_cum,'b')\n",
    "plt(b_bins[:100],b_cum,'r')\n",
    "plt(c_bins[:100],c_cum,'g')\n",
    "plt(p_bins[:100],p_cum,'y')"
   ]
  },
  {
   "cell_type": "code",
   "execution_count": null,
   "metadata": {},
   "outputs": [],
   "source": [
    "predictions_pandas['pm']=predictions_pandas['p'].transform(lambda x : (0.34*x)+0.14 if (x>0.2 and x<0.5) else ((3.34*x)-1.52 if (x<0.65 and x>0.5) else x))"
   ]
  },
  {
   "cell_type": "code",
   "execution_count": null,
   "metadata": {},
   "outputs": [],
   "source": [
    "tp_hist,tp_bins=np.histogram(predictions_pandas['tp'],bins=100)\n",
    "b_hist,b_bins=np.histogram(predictions_pandas['b'],bins=100)\n",
    "c_hist,c_bins=np.histogram(predictions_pandas['c'],bins=100)\n",
    "p_hist,p_bins=np.histogram(predictions_pandas['p'],bins=100)\n",
    "pm_hist,pm_bins=np.histogram(predictions_pandas['pm'],bins=100)"
   ]
  },
  {
   "cell_type": "code",
   "execution_count": null,
   "metadata": {},
   "outputs": [],
   "source": [
    "tp_cum=np.cumsum(tp_hist)\n",
    "b_cum=np.cumsum(b_hist)\n",
    "c_cum=np.cumsum(c_hist)\n",
    "p_cum=np.cumsum(p_hist)\n",
    "pm_cum=np.cumsum(pm_hist)"
   ]
  },
  {
   "cell_type": "code",
   "execution_count": null,
   "metadata": {},
   "outputs": [],
   "source": [
    "plt(tp_bins[:100],tp_cum,'b')\n",
    "plt(b_bins[:100],b_cum,'r')\n",
    "plt(c_bins[:100],c_cum,'g')\n",
    "plt(p_bins[:100],p_cum,'y')\n",
    "plt(pm_bins[:100],pm_cum,'k')"
   ]
  },
  {
   "cell_type": "code",
   "execution_count": null,
   "metadata": {},
   "outputs": [],
   "source": [
    "from pandas.plotting import parallel_coordinates"
   ]
  },
  {
   "cell_type": "code",
   "execution_count": null,
   "metadata": {},
   "outputs": [],
   "source": [
    "parallel_coordinates(predictions_pandas[['tp','b','c','p','pm','mod_originals']],'mod_originals',color=['w','w','b','w'],alpha=0.1)"
   ]
  },
  {
   "cell_type": "code",
   "execution_count": null,
   "metadata": {},
   "outputs": [],
   "source": [
    "from pandas.plotting import radviz\n",
    "radviz(predictions_pandas[['tp','b','c','p','mod_originals']],'mod_originals',color=['b','r','g','y'])"
   ]
  },
  {
   "cell_type": "code",
   "execution_count": null,
   "metadata": {},
   "outputs": [],
   "source": [
    "predictions_pandas"
   ]
  },
  {
   "cell_type": "code",
   "execution_count": null,
   "metadata": {},
   "outputs": [],
   "source": [
    "predictions_pandas['mod_strings'] = predictions_pandas[['tp','b','c','pm']].idxmax(axis=1)"
   ]
  },
  {
   "cell_type": "code",
   "execution_count": null,
   "metadata": {},
   "outputs": [],
   "source": [
    "category = {'tp': 0.0,'b': 1.0,'c':2.0,'pm':3.0} "
   ]
  },
  {
   "cell_type": "code",
   "execution_count": null,
   "metadata": {},
   "outputs": [],
   "source": [
    "category_original= {'PLAN & TRAVEL PASS': 0.0,'BILLING': 1.0,'CRUISE':2.0,'PHONE SETTINGS':3.0,'FRAUD': 0.0,'STOLEN & DAMAGED': 0.0} "
   ]
  },
  {
   "cell_type": "code",
   "execution_count": null,
   "metadata": {},
   "outputs": [],
   "source": [
    "predictions_pandas['mod_predictions'] = [category[item] for item in predictions_pandas['mod_strings']]"
   ]
  },
  {
   "cell_type": "code",
   "execution_count": null,
   "metadata": {},
   "outputs": [],
   "source": [
    "predictions_pandas['mod_originals'] = [category_original[item] for item in predictions_pandas['primary']]"
   ]
  },
  {
   "cell_type": "code",
   "execution_count": null,
   "metadata": {},
   "outputs": [],
   "source": [
    "predictions_pandas"
   ]
  },
  {
   "cell_type": "code",
   "execution_count": null,
   "metadata": {},
   "outputs": [],
   "source": [
    "predictions_pandas.dtypes"
   ]
  },
  {
   "cell_type": "code",
   "execution_count": null,
   "metadata": {},
   "outputs": [],
   "source": [
    "from sklearn.metrics import confusion_matrix"
   ]
  },
  {
   "cell_type": "code",
   "execution_count": null,
   "metadata": {},
   "outputs": [],
   "source": [
    "confusion_matrix(predictions_pandas['mod_originals'], predictions_pandas['Prediction_Index'])"
   ]
  },
  {
   "cell_type": "code",
   "execution_count": null,
   "metadata": {},
   "outputs": [],
   "source": [
    "confusion_matrix(predictions_pandas['mod_originals'], predictions_pandas['mod_predictions'])"
   ]
  },
  {
   "cell_type": "code",
   "execution_count": null,
   "metadata": {},
   "outputs": [],
   "source": []
  }
 ],
 "metadata": {
  "kernel_args": {
   "conf": {
    "spark.driver.maxResultSize": "10g",
    "spark.driver.memoryOverhead": "36g",
    "spark.executor.memoryOverhead": "36g"
   },
   "driver-cores": "12",
   "driver-memory": "36g",
   "executor-cores": "16",
   "executor-memory": "64g",
   "num-executors": "100",
   "version": "current-2.3"
  },
  "kernelspec": {
   "display_name": "PySpark 3 (Beta)",
   "language": "",
   "name": "pysparkkernel3"
  },
  "language_info": {
   "codemirror_mode": {
    "name": "python",
    "version": 3
   },
   "mimetype": "text/x-python",
   "name": "pyspark3",
   "pygments_lexer": "ipython2",
   "version": "1.0"
  }
 },
 "nbformat": 4,
 "nbformat_minor": 2
}
