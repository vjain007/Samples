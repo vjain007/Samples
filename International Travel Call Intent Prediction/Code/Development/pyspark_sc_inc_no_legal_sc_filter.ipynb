{
 "cells": [
  {
   "cell_type": "code",
   "execution_count": null,
   "metadata": {},
   "outputs": [],
   "source": [
    "from pyspark.sql.functions import *\n",
    "from pyspark.sql.types import *\n",
    "from pyspark.ml.feature import *\n",
    "import pandas"
   ]
  },
  {
   "cell_type": "code",
   "execution_count": null,
   "metadata": {},
   "outputs": [],
   "source": [
    "features1 = spark.sql(\"select * from VZW_SOI_PRD_TBLS.vzsoi_intl_call_base_tbl_v3 where bill_curr_amt is not null\")\n"
   ]
  },
  {
   "cell_type": "code",
   "execution_count": null,
   "metadata": {},
   "outputs": [],
   "source": [
    "features1.dtypes"
   ]
  },
  {
   "cell_type": "code",
   "execution_count": null,
   "metadata": {},
   "outputs": [],
   "source": [
    "features1=features1.withColumn('conditioning',when((col('prev_tvl_count')!=0)|(col(\"plans_visited_ind\")=='Y')|(col(\"intl_plans_visited_ind\")=='Y')|(col('trvln_outsid_us_ind')=='Y')|(col('trip_planner_ind')=='Y')|(col('while_outside_us_ind')=='Y')|(col(\"international_services_ind\")==\"Y\"),\"Y\").otherwise('N'))"
   ]
  },
  {
   "cell_type": "code",
   "execution_count": null,
   "metadata": {},
   "outputs": [],
   "source": [
    "features = features1.select('mtn','call_start_tm_stmp','tenure','pplan_eff_dt',\n",
    "                            'prepaid_ind','access_amt','data_access_amt','feat_amt','late_pymnt_chrg_amt',\n",
    "                            'occ_amt','bill_6_mth_avg','bill_curr_amt','msg_allow_share_ind','data_allow_share_ind',\n",
    "                            'voice_allow_share_ind', 'bill_cycle_dt','free_plan','ccd1','primary_topic','call_ts1',\n",
    "                            'tvl1','cl_desc1','primary1_topic','primary2_topic','primary3_topic','primary4_topic',\n",
    "                            'primary5_topic','line_type','tvl_pass_included','can_mex_free_plan','prev_tvl_count',\n",
    "                            'prev_call_count',\"plans_visited_ind\",\n",
    "                            \"intl_plans_visited_ind\",\n",
    "                            \"trvln_outsid_us_ind\",\n",
    "                            \"trip_planner_ind\",\"while_outside_us_ind\",\"support_ind\",\"billing_and_payment_ind\",\n",
    "                            \"plan_and_account_ind\",\"device_troubleshooting_assistant_ind\",\"international_services_ind\",\n",
    "                            \"bill_ind\",\"overview_ind\",\"next_bill_estimate_ind\",\"payment_history_ind\",\"family_controls_ind\",\n",
    "                            \"mfapp_plans_visited_ind\",\"mfapp_intl_plans_visited_ind\",\"mfapp_trvln_outsid_us_ind\",\n",
    "                            \"mfapp_trip_planner_ind\",\"mfapp_while_outside_us_ind\",\"mfapp_support_ind\",\"mfapp_billing_and_payment_ind\",\n",
    "                            \"mfapp_plan_and_account_ind\",\"mfapp_device_troubleshooting_assistant_ind\",\"mfapp_international_services_ind\",\n",
    "                            \"mfapp_bill_ind\",\"mfapp_overview_ind\",\"mfapp_next_bill_estimate_ind\",\"mfapp_payment_history_ind\",\n",
    "                            \"mfapp_family_controls_ind\",\"conditioning\")"
   ]
  },
  {
   "cell_type": "code",
   "execution_count": null,
   "metadata": {},
   "outputs": [],
   "source": [
    "features=features.dropna(subset=['primary_topic'])"
   ]
  },
  {
   "cell_type": "code",
   "execution_count": null,
   "metadata": {},
   "outputs": [],
   "source": [
    "features=features.filter(features.conditioning=='Y')"
   ]
  },
  {
   "cell_type": "code",
   "execution_count": null,
   "metadata": {},
   "outputs": [],
   "source": [
    "#features = features.withColumn('age', features['age'].cast(DoubleType()))\n",
    "features = features.withColumn('prev_tvl_count', features['prev_tvl_count'].cast(DoubleType()))\n",
    "features = features.withColumn('prev_call_count', features['prev_call_count'].cast(DoubleType()))\n",
    "features = features.withColumn('access_amt', features['access_amt'].cast(FloatType()))\n",
    "features = features.withColumn('data_access_amt', features['data_access_amt'].cast(FloatType()))\n",
    "features = features.withColumn('feat_amt', features['feat_amt'].cast(FloatType()))\n",
    "features = features.withColumn('late_pymnt_chrg_amt', features['late_pymnt_chrg_amt'].cast(FloatType()))\n",
    "features = features.withColumn('occ_amt', features['occ_amt'].cast(FloatType()))\n",
    "features = features.withColumn('bill_6_mth_avg', features['bill_6_mth_avg'].cast(FloatType()))\n",
    "features = features.withColumn('bill_curr_amt', features['bill_curr_amt'].cast(FloatType()))"
   ]
  },
  {
   "cell_type": "code",
   "execution_count": null,
   "metadata": {},
   "outputs": [],
   "source": [
    "features = features.withColumn('bill_6_mth_avg', when(features['bill_6_mth_avg'].isNull(), 0).otherwise(col('bill_6_mth_avg')))\n",
    "features = features.withColumn('bill_curr_amt', when(features['bill_curr_amt'].isNull(), 0).otherwise(col('bill_curr_amt')))\n",
    "features = features.withColumn('prev_tvl_count', when(features['prev_tvl_count'].isNull(), 0).otherwise(col('prev_tvl_count')))\n",
    "features = features.withColumn('prev_call_count', when(features['prev_call_count'].isNull(), 0).otherwise(col('prev_call_count')))"
   ]
  },
  {
   "cell_type": "code",
   "execution_count": null,
   "metadata": {},
   "outputs": [],
   "source": [
    "features=features.withColumn('free_plan',lower(features['free_plan']))\n",
    "features = features.withColumn('free_plan', when(features['free_plan'].isNull(), 'paid').otherwise(col('free_plan')))"
   ]
  },
  {
   "cell_type": "code",
   "execution_count": null,
   "metadata": {},
   "outputs": [],
   "source": [
    "features=features.withColumn('access_data_diff',features['access_amt']-features['data_access_amt'])\n",
    "features=features.withColumn('bill_shock',(features['bill_curr_amt']-features['bill_6_mth_avg'])/features['bill_6_mth_avg'])"
   ]
  },
  {
   "cell_type": "code",
   "execution_count": null,
   "metadata": {},
   "outputs": [],
   "source": [
    "## filter numeric cols\n",
    "num_cols = [col_type[0] for col_type in filter(lambda dtype: dtype[1] in {\"bigint\", \"double\", \"float\"}, features.dtypes)]\n",
    "### Compute a dict with <col_name, median_value>\n",
    "median_dict = dict()\n",
    "for c in num_cols:\n",
    "    median_dict[c] = features.stat.approxQuantile(c, [0.5], 0.001)[0]"
   ]
  },
  {
   "cell_type": "code",
   "execution_count": null,
   "metadata": {},
   "outputs": [],
   "source": [
    "features = features.na.fill(median_dict)"
   ]
  },
  {
   "cell_type": "code",
   "execution_count": null,
   "metadata": {},
   "outputs": [],
   "source": [
    "median_dict"
   ]
  },
  {
   "cell_type": "code",
   "execution_count": null,
   "metadata": {},
   "outputs": [],
   "source": [
    "features=features.withColumn('tvl1_call1',datediff('call_start_tm_stmp','tvl1'))\n",
    "features=features.withColumn('bill_call1',datediff('call_start_tm_stmp','bill_cycle_dt'))"
   ]
  },
  {
   "cell_type": "code",
   "execution_count": null,
   "metadata": {},
   "outputs": [],
   "source": [
    "features = features.withColumn('tvl1_call1', when(features['tvl1_call1'].isNull(), 60).otherwise(col('tvl1_call1')))\n",
    "features = features.withColumn('bill_call1', when(features['bill_call1'].isNull(), 60).otherwise(col('bill_call1')))"
   ]
  },
  {
   "cell_type": "code",
   "execution_count": null,
   "metadata": {},
   "outputs": [],
   "source": [
    "#features = features.withColumn('ethnicity', when(features['ethnicity'].isNull(), 'Unknown').otherwise(col('ethnicity')))\n",
    "features = features.withColumn('msg_allow_share_ind', when(features['msg_allow_share_ind'].isNull(), 'Unknown').otherwise(col('msg_allow_share_ind')))\n",
    "features = features.withColumn('data_allow_share_ind', when(features['data_allow_share_ind'].isNull(), 'Unknown').otherwise(col('data_allow_share_ind')))\n",
    "features = features.withColumn('voice_allow_share_ind', when(features['voice_allow_share_ind'].isNull(), 'Unknown').otherwise(col('voice_allow_share_ind')))\n",
    "features = features.withColumn('ccd1', when(features['ccd1'].isNull(), 'Unknown').otherwise(col('ccd1')))\n",
    "features = features.withColumn('free_plan', when(features['free_plan'].isNull(), 'Unknown').otherwise(col('free_plan')))\n",
    "features = features.withColumn('cl_desc1', when(features['cl_desc1'].isNull(), 'Unknown').otherwise(col('cl_desc1')))\n",
    "features = features.withColumn('line_type', when(features['line_type'].isNull(), 'Unknown').otherwise(col('line_type')))\n",
    "features = features.withColumn('tvl_pass_included', when(features['tvl_pass_included'].isNull(), 'Unknown').otherwise(col('tvl_pass_included')))\n",
    "features = features.withColumn('can_mex_free_plan', when(features['can_mex_free_plan'].isNull(), 'Unknown').otherwise(col('can_mex_free_plan')))"
   ]
  },
  {
   "cell_type": "code",
   "execution_count": null,
   "metadata": {},
   "outputs": [],
   "source": [
    "features = features.withColumn('ccd1', when((col('ccd1') =='BHS')| (col('ccd1') =='DOM')|(col('ccd1') =='BRB')|(col('ccd1') =='LCA')| (col('ccd1') =='VGB')|(col('ccd1') =='TCA')|(col('ccd1') =='CUR')|(col('ccd1') =='GRD')|(col('ccd1') =='ATG')|(col('ccd1') =='BMU')|(col('ccd1') =='JAM')| (col('ccd1') =='CRI')| (col('ccd1') =='CUB')| (col('ccd1') =='KNA')|(col('ccd1') =='TTO')|(col('ccd1') =='HTI')| (col('ccd1') =='ABW'),'CARR').otherwise(col('ccd1')))\n",
    "features = features.withColumn('ccd1', when((col('ccd1') =='ITA')| (col('ccd1') =='HUN')| (col('ccd1') =='DNK')| (col('ccd1') =='NOR')| (col('ccd1') =='CZE')| (col('ccd1') =='BEL')| (col('ccd1') =='ISL')| (col('ccd1') =='PRT')| (col('ccd1') =='POL')| (col('ccd1') =='FRA')| (col('ccd1') =='DEU')| (col('ccd1') =='NLD')| (col('ccd1') =='ESP')| (col('ccd1') =='AUT')| (col('ccd1') =='CHE'),'SCH').otherwise(col('ccd1')))\n",
    "features = features.withColumn('ccd1', when((col('ccd1') =='IND')| (col('ccd1') =='THA')| (col('ccd1') =='CHN')| (col('ccd1') =='AUS')| (col('ccd1') =='JPN')| (col('ccd1') =='HKG'),'APAC').otherwise(col('ccd1')))\n",
    "\n",
    "\n",
    "features = features.withColumn('ccd1', when((col('ccd1') !='SCH')& (col('ccd1') !='CARR')& (col('ccd1') !='AAA')\n",
    "                                                    & (col('ccd1') !='MEX')& (col('ccd1') !='CAN')& (col('ccd1') !='APAC')& (col('ccd1') !='CSP'),\n",
    "                                                    'Others').otherwise(col('ccd1')))"
   ]
  },
  {
   "cell_type": "code",
   "execution_count": null,
   "metadata": {},
   "outputs": [],
   "source": [
    "#age_bucketizer = Bucketizer(splits=[float('-Inf'), 0,24,39, 54, 74,float('Inf') ],inputCol=\"age\", outputCol=\"age_buckets\")\n",
    "tvl1_call1_bucketizer = Bucketizer(splits=[float('-Inf'), 0,1,2,7,30,float('Inf') ],inputCol=\"tvl1_call1\", outputCol=\"tvl1_call1_buckets\")\n",
    "bill_call1_bucketizer = Bucketizer(splits=[float('-Inf'), 0,1,2,7,30,float('Inf') ],inputCol=\"bill_call1\", outputCol=\"bill_call1_buckets\")\n",
    "access_amt_bucketizer = Bucketizer(splits=[float('-Inf'), 0,10,50,100,150,float('Inf') ],inputCol=\"access_amt\", outputCol=\"access_amt_buckets\")\n",
    "access_data_diff_bucketizer = Bucketizer(splits=[float('-Inf'),0,5,10,float('Inf') ],inputCol=\"access_data_diff\", outputCol=\"access_data_diff_buckets\")\n",
    "feat_amt_bucketizer = Bucketizer(splits=[float('-Inf'), 0,10,20,100,float('Inf') ],inputCol=\"feat_amt\", outputCol=\"feat_amt_buckets\")\n",
    "late_pymnt_chrg_amt_bucketizer = Bucketizer(splits=[float('-Inf'), 0,5,10,float('Inf') ],inputCol=\"late_pymnt_chrg_amt\", outputCol=\"late_pymnt_chrg_amt_buckets\")\n",
    "occ_amt_bucketizer = Bucketizer(splits=[float('-Inf'), -10,0,10,float('Inf') ],inputCol=\"occ_amt\", outputCol=\"occ_amt_buckets\")\n",
    "prev_tvl_count_bucketizer = Bucketizer(splits=[float('-Inf'), 0,1,2,3,5,10,float('Inf') ],inputCol=\"prev_tvl_count\", outputCol=\"prev_tvl_count_buckets\")\n",
    "prev_call_count_bucketizer = Bucketizer(splits=[float('-Inf'), 0,1,2,3,5,10,float('Inf') ],inputCol=\"prev_call_count\", outputCol=\"prev_call_count_buckets\")"
   ]
  },
  {
   "cell_type": "code",
   "execution_count": null,
   "metadata": {},
   "outputs": [],
   "source": [
    "#features= age_bucketizer.setHandleInvalid(\"keep\").transform(features)\n",
    "features= tvl1_call1_bucketizer.setHandleInvalid(\"keep\").transform(features)\n",
    "features= bill_call1_bucketizer.setHandleInvalid(\"keep\").transform(features)\n",
    "features= access_amt_bucketizer.setHandleInvalid(\"keep\").transform(features)\n",
    "features= access_data_diff_bucketizer.setHandleInvalid(\"keep\").transform(features)\n",
    "features= feat_amt_bucketizer.setHandleInvalid(\"keep\").transform(features)\n",
    "features= late_pymnt_chrg_amt_bucketizer.setHandleInvalid(\"keep\").transform(features)\n",
    "features= occ_amt_bucketizer.setHandleInvalid(\"keep\").transform(features)\n",
    "features= prev_tvl_count_bucketizer.setHandleInvalid(\"keep\").transform(features)\n",
    "features= prev_call_count_bucketizer.setHandleInvalid(\"keep\").transform(features)"
   ]
  },
  {
   "cell_type": "code",
   "execution_count": null,
   "metadata": {},
   "outputs": [],
   "source": [
    "features = features.withColumn('primary_topic', when((col('primary_topic') =='FRAUD')| (col('primary_topic') =='STOLEN & DAMAGED'),'PLAN & TRAVEL PASS').otherwise(col('primary_topic')))\n",
    "features = features.withColumn('primary_topic', when(col('primary_topic') =='PHONE SETTINGS','phone_settings').otherwise(col('primary_topic')))\n",
    "features = features.withColumn('primary_topic', when(col('primary_topic') =='BILLING','billing').otherwise(col('primary_topic')))\n",
    "features = features.withColumn('primary_topic', when(col('primary_topic') =='CRUISE','cruise').otherwise(col('primary_topic')))\n",
    "features = features.withColumn('primary_topic', when(col('primary_topic') =='PLAN & TRAVEL PASS','plan_travelpass').otherwise(col('primary_topic')))"
   ]
  },
  {
   "cell_type": "code",
   "execution_count": null,
   "metadata": {},
   "outputs": [],
   "source": [
    "features = features.withColumn('primary1_topic', when(features['primary1_topic'].isNull(), 'Unknown').otherwise(col('primary1_topic')))\n",
    "features = features.withColumn('primary1_topic', when((col('primary1_topic') =='FRAUD')| (col('primary1_topic') =='STOLEN & DAMAGED'),'PLAN & TRAVEL PASS').otherwise(col('primary1_topic')))\n",
    "features = features.withColumn('primary1_topic', when(col('primary1_topic') =='PHONE SETTINGS','phone_settings').otherwise(col('primary1_topic')))\n",
    "features = features.withColumn('primary1_topic', when(col('primary1_topic') =='BILLING','billing').otherwise(col('primary1_topic')))\n",
    "features = features.withColumn('primary1_topic', when(col('primary1_topic') =='CRUISE','cruise').otherwise(col('primary1_topic')))\n",
    "features = features.withColumn('primary1_topic', when(col('primary1_topic') =='PLAN & TRAVEL PASS','plan_travelpass').otherwise(col('primary1_topic')))"
   ]
  },
  {
   "cell_type": "code",
   "execution_count": null,
   "metadata": {},
   "outputs": [],
   "source": [
    "features = features.withColumn('primary2_topic', when(features['primary2_topic'].isNull(), 'Unknown').otherwise(col('primary2_topic')))\n",
    "features = features.withColumn('primary2_topic', when((col('primary2_topic') =='FRAUD')| (col('primary2_topic') =='STOLEN & DAMAGED'),'PLAN & TRAVEL PASS').otherwise(col('primary2_topic')))\n",
    "features = features.withColumn('primary2_topic', when(col('primary2_topic') =='PHONE SETTINGS','phone_settings').otherwise(col('primary2_topic')))\n",
    "features = features.withColumn('primary2_topic', when(col('primary2_topic') =='BILLING','billing').otherwise(col('primary2_topic')))\n",
    "features = features.withColumn('primary2_topic', when(col('primary2_topic') =='CRUISE','cruise').otherwise(col('primary2_topic')))\n",
    "features = features.withColumn('primary2_topic', when(col('primary2_topic') =='PLAN & TRAVEL PASS','plan_travelpass').otherwise(col('primary2_topic')))"
   ]
  },
  {
   "cell_type": "code",
   "execution_count": null,
   "metadata": {},
   "outputs": [],
   "source": [
    "features = features.withColumn('primary3_topic', when(features['primary3_topic'].isNull(), 'Unknown').otherwise(col('primary3_topic')))\n",
    "features = features.withColumn('primary3_topic', when((col('primary3_topic') =='FRAUD')| (col('primary3_topic') =='STOLEN & DAMAGED'),'PLAN & TRAVEL PASS').otherwise(col('primary3_topic')))\n",
    "features = features.withColumn('primary3_topic', when(col('primary3_topic') =='PHONE SETTINGS','phone_settings').otherwise(col('primary3_topic')))\n",
    "features = features.withColumn('primary3_topic', when(col('primary3_topic') =='BILLING','billing').otherwise(col('primary3_topic')))\n",
    "features = features.withColumn('primary3_topic', when(col('primary3_topic') =='CRUISE','cruise').otherwise(col('primary3_topic')))\n",
    "features = features.withColumn('primary3_topic', when(col('primary3_topic') =='PLAN & TRAVEL PASS','plan_travelpass').otherwise(col('primary3_topic')))"
   ]
  },
  {
   "cell_type": "code",
   "execution_count": null,
   "metadata": {},
   "outputs": [],
   "source": [
    "features = features.withColumn('primary4_topic', when(features['primary4_topic'].isNull(), 'Unknown').otherwise(col('primary4_topic')))\n",
    "features = features.withColumn('primary4_topic', when((col('primary4_topic') =='FRAUD')| (col('primary4_topic') =='STOLEN & DAMAGED'),'PLAN & TRAVEL PASS').otherwise(col('primary4_topic')))\n",
    "features = features.withColumn('primary4_topic', when(col('primary4_topic') =='PHONE SETTINGS','phone_settings').otherwise(col('primary4_topic')))\n",
    "features = features.withColumn('primary4_topic', when(col('primary4_topic') =='BILLING','billing').otherwise(col('primary4_topic')))\n",
    "features = features.withColumn('primary4_topic', when(col('primary4_topic') =='CRUISE','cruise').otherwise(col('primary4_topic')))\n",
    "features = features.withColumn('primary4_topic', when(col('primary4_topic') =='PLAN & TRAVEL PASS','plan_travelpass').otherwise(col('primary4_topic')))"
   ]
  },
  {
   "cell_type": "code",
   "execution_count": null,
   "metadata": {},
   "outputs": [],
   "source": [
    "features = features.withColumn('primary5_topic', when(features['primary5_topic'].isNull(), 'Unknown').otherwise(col('primary5_topic')))\n",
    "features = features.withColumn('primary5_topic', when((col('primary5_topic') =='FRAUD')| (col('primary5_topic') =='STOLEN & DAMAGED'),'PLAN & TRAVEL PASS').otherwise(col('primary5_topic')))\n",
    "features = features.withColumn('primary5_topic', when(col('primary5_topic') =='PHONE SETTINGS','phone_settings').otherwise(col('primary5_topic')))\n",
    "features = features.withColumn('primary5_topic', when(col('primary5_topic') =='BILLING','billing').otherwise(col('primary5_topic')))\n",
    "features = features.withColumn('primary5_topic', when(col('primary5_topic') =='CRUISE','cruise').otherwise(col('primary5_topic')))\n",
    "features = features.withColumn('primary5_topic', when(col('primary5_topic') =='PLAN & TRAVEL PASS','plan_travelpass').otherwise(col('primary5_topic')))"
   ]
  },
  {
   "cell_type": "code",
   "execution_count": null,
   "metadata": {},
   "outputs": [],
   "source": [
    "labelIndexer = StringIndexer(inputCol='primary_topic',outputCol='label')"
   ]
  },
  {
   "cell_type": "code",
   "execution_count": null,
   "metadata": {},
   "outputs": [],
   "source": [
    "features.limit(100).toPandas()"
   ]
  },
  {
   "cell_type": "code",
   "execution_count": null,
   "metadata": {},
   "outputs": [],
   "source": [
    "x"
   ]
  },
  {
   "cell_type": "code",
   "execution_count": null,
   "metadata": {},
   "outputs": [],
   "source": [
    "# Create a StringIndexer\n",
    "#ethnicity_idx = StringIndexer(inputCol=\"ethnicity\",outputCol=\"ethnicity_index\")\n",
    "\n",
    "# Create a OneHotEncoder\n",
    "#ethnicity_index_vec = OneHotEncoder(inputCol=\"ethnicity_index\",outputCol=\"ethnicity_index_fact\")"
   ]
  },
  {
   "cell_type": "code",
   "execution_count": null,
   "metadata": {},
   "outputs": [],
   "source": [
    "msg_allow_share_ind_idx = StringIndexer(inputCol=\"msg_allow_share_ind\",outputCol=\"msg_allow_share_ind_index\")\n",
    "msg_allow_share_ind_vec = OneHotEncoder(inputCol=\"msg_allow_share_ind_index\",outputCol=\"msg_allow_share_ind_fact\")\n",
    "data_allow_share_ind_idx = StringIndexer(inputCol=\"data_allow_share_ind\",outputCol=\"data_allow_share_ind_index\")\n",
    "data_allow_share_ind_vec = OneHotEncoder(inputCol=\"data_allow_share_ind_index\",outputCol=\"data_allow_share_ind_fact\")\n",
    "voice_allow_share_ind_idx = StringIndexer(inputCol=\"voice_allow_share_ind\",outputCol=\"voice_allow_share_ind_index\")\n",
    "voice_allow_share_ind_vec = OneHotEncoder(inputCol=\"voice_allow_share_ind_index\",outputCol=\"voice_allow_share_ind_fact\")\n",
    "free_plan_idx = StringIndexer(inputCol=\"free_plan\",outputCol=\"free_plan_index\")\n",
    "free_plan_vec = OneHotEncoder(inputCol=\"free_plan_index\",outputCol=\"free_plan_fact\")\n",
    "line_type_idx = StringIndexer(inputCol=\"line_type\",outputCol=\"line_type_index\")\n",
    "line_type_vec = OneHotEncoder(inputCol=\"line_type_index\",outputCol=\"line_type_fact\")\n",
    "tvl_pass_included_idx = StringIndexer(inputCol=\"tvl_pass_included\",outputCol=\"tvl_pass_included_index\")\n",
    "tvl_pass_included_vec = OneHotEncoder(inputCol=\"tvl_pass_included_index\",outputCol=\"tvl_pass_included_fact\")\n",
    "can_mex_free_plan_idx = StringIndexer(inputCol=\"can_mex_free_plan\",outputCol=\"can_mex_free_plan_index\")\n",
    "can_mex_free_plan_vec = OneHotEncoder(inputCol=\"can_mex_free_plan_index\",outputCol=\"can_mex_free_plan_fact\")"
   ]
  },
  {
   "cell_type": "code",
   "execution_count": null,
   "metadata": {},
   "outputs": [],
   "source": [
    "primary1_topic_idx = StringIndexer(inputCol=\"primary1_topic\",outputCol=\"primary1_topic_index\")\n",
    "primary1_topic_vec = OneHotEncoder(inputCol=\"primary1_topic_index\",outputCol=\"primary1_topic_fact\")\n",
    "primary2_topic_idx = StringIndexer(inputCol=\"primary2_topic\",outputCol=\"primary2_topic_index\")\n",
    "primary2_topic_vec = OneHotEncoder(inputCol=\"primary2_topic_index\",outputCol=\"primary2_topic_fact\")\n",
    "primary3_topic_idx = StringIndexer(inputCol=\"primary3_topic\",outputCol=\"primary3_topic_index\")\n",
    "primary3_topic_vec = OneHotEncoder(inputCol=\"primary3_topic_index\",outputCol=\"primary3_topic_fact\")\n",
    "primary4_topic_idx = StringIndexer(inputCol=\"primary4_topic\",outputCol=\"primary4_topic_index\")\n",
    "primary4_topic_vec = OneHotEncoder(inputCol=\"primary4_topic_index\",outputCol=\"primary4_topic_fact\")\n",
    "primary5_topic_idx = StringIndexer(inputCol=\"primary5_topic\",outputCol=\"primary5_topic_index\")\n",
    "primary5_topic_vec = OneHotEncoder(inputCol=\"primary5_topic_index\",outputCol=\"primary5_topic_fact\")"
   ]
  },
  {
   "cell_type": "code",
   "execution_count": null,
   "metadata": {},
   "outputs": [],
   "source": [
    "plans_visited_ind_idx = StringIndexer(inputCol=\"plans_visited_ind\",outputCol=\"plans_visited_ind_index\")\n",
    "plans_visited_ind_vec = OneHotEncoder(inputCol=\"plans_visited_ind_index\",outputCol=\"plans_visited_ind_fact\")\n",
    "intl_plans_visited_ind_idx = StringIndexer(inputCol=\"intl_plans_visited_ind\",outputCol=\"intl_plans_visited_ind_index\")\n",
    "intl_plans_visited_ind_vec = OneHotEncoder(inputCol=\"intl_plans_visited_ind_index\",outputCol=\"intl_plans_visited_ind_fact\")\n",
    "trvln_outsid_us_ind_idx = StringIndexer(inputCol=\"trvln_outsid_us_ind\",outputCol=\"trvln_outsid_us_ind_index\")\n",
    "trvln_outsid_us_ind_vec = OneHotEncoder(inputCol=\"trvln_outsid_us_ind_index\",outputCol=\"trvln_outsid_us_ind_fact\")\n",
    "trip_planner_ind_idx = StringIndexer(inputCol=\"trip_planner_ind\",outputCol=\"trip_planner_ind_index\")\n",
    "trip_planner_ind_vec = OneHotEncoder(inputCol=\"trip_planner_ind_index\",outputCol=\"trip_planner_ind_fact\")\n",
    "while_outside_us_ind_idx = StringIndexer(inputCol=\"while_outside_us_ind\",outputCol=\"while_outside_us_ind_index\")\n",
    "while_outside_us_ind_vec = OneHotEncoder(inputCol=\"while_outside_us_ind_index\",outputCol=\"while_outside_us_ind_fact\")\n",
    "support_ind_idx = StringIndexer(inputCol=\"support_ind\",outputCol=\"support_ind_index\")\n",
    "support_ind_vec = OneHotEncoder(inputCol=\"support_ind_index\",outputCol=\"support_ind_fact\")\n",
    "billing_and_payment_ind_idx = StringIndexer(inputCol=\"billing_and_payment_ind\",outputCol=\"billing_and_payment_ind_index\")\n",
    "billing_and_payment_ind_vec = OneHotEncoder(inputCol=\"billing_and_payment_ind_index\",outputCol=\"billing_and_payment_ind_fact\")\n",
    "plan_and_account_ind_idx = StringIndexer(inputCol=\"plan_and_account_ind\",outputCol=\"plan_and_account_ind_index\")\n",
    "plan_and_account_ind_vec = OneHotEncoder(inputCol=\"plan_and_account_ind_index\",outputCol=\"plan_and_account_ind_fact\")\n",
    "device_troubleshooting_assistant_ind_idx = StringIndexer(inputCol=\"device_troubleshooting_assistant_ind\",outputCol=\"device_troubleshooting_assistant_ind_index\")\n",
    "device_troubleshooting_assistant_ind_vec = OneHotEncoder(inputCol=\"device_troubleshooting_assistant_ind_index\",outputCol=\"device_troubleshooting_assistant_ind_fact\")\n",
    "international_services_ind_idx = StringIndexer(inputCol=\"international_services_ind\",outputCol=\"international_services_ind_index\")\n",
    "international_services_ind_vec = OneHotEncoder(inputCol=\"international_services_ind_index\",outputCol=\"international_services_ind_fact\")\n",
    "bill_ind_idx = StringIndexer(inputCol=\"bill_ind\",outputCol=\"bill_ind_index\")\n",
    "bill_ind_vec = OneHotEncoder(inputCol=\"bill_ind_index\",outputCol=\"bill_ind_fact\")\n",
    "overview_ind_idx = StringIndexer(inputCol=\"overview_ind\",outputCol=\"overview_ind_index\")\n",
    "overview_ind_vec = OneHotEncoder(inputCol=\"overview_ind_index\",outputCol=\"overview_ind_fact\")\n",
    "next_bill_estimate_ind_idx = StringIndexer(inputCol=\"next_bill_estimate_ind\",outputCol=\"next_bill_estimate_ind_index\")\n",
    "next_bill_estimate_ind_vec = OneHotEncoder(inputCol=\"next_bill_estimate_ind_index\",outputCol=\"next_bill_estimate_ind_fact\")\n",
    "payment_history_ind_idx = StringIndexer(inputCol=\"payment_history_ind\",outputCol=\"payment_history_ind_index\")\n",
    "payment_history_ind_vec = OneHotEncoder(inputCol=\"payment_history_ind_index\",outputCol=\"payment_history_ind_fact\")\n",
    "family_controls_ind_idx = StringIndexer(inputCol=\"family_controls_ind\",outputCol=\"family_controls_ind_index\")\n",
    "family_controls_ind_vec = OneHotEncoder(inputCol=\"family_controls_ind_index\",outputCol=\"family_controls_ind_fact\")"
   ]
  },
  {
   "cell_type": "code",
   "execution_count": null,
   "metadata": {},
   "outputs": [],
   "source": [
    "#age_idx = StringIndexer(inputCol=\"age_buckets\",outputCol=\"age_buckets_index\")\n",
    "#age_vec = OneHotEncoder(inputCol=\"age_buckets_index\",outputCol=\"age_buckets_fact\")\n",
    "#call_estd_date_idx = StringIndexer(inputCol=\"call_estd_date_buckets\",outputCol=\"call_estd_date_buckets_index\")\n",
    "#call_estd_date_vec = OneHotEncoder(inputCol=\"call_estd_date_buckets_index\",outputCol=\"call_estd_date_buckets_fact\")\n",
    "tvl1_call1_idx = StringIndexer(inputCol=\"tvl1_call1_buckets\",outputCol=\"tvl1_call1_buckets_index\")\n",
    "tvl1_call1_vec = OneHotEncoder(inputCol=\"tvl1_call1_buckets_index\",outputCol=\"tvl1_call1_buckets_fact\")\n",
    "bill_call1_idx = StringIndexer(inputCol=\"bill_call1_buckets\",outputCol=\"bill_call1_buckets_index\")\n",
    "bill_call1_vec = OneHotEncoder(inputCol=\"bill_call1_buckets_index\",outputCol=\"bill_call1_buckets_fact\")\n",
    "access_amt_idx = StringIndexer(inputCol=\"access_amt_buckets\",outputCol=\"access_amt_buckets_index\")\n",
    "access_amt_vec = OneHotEncoder(inputCol=\"access_amt_buckets_index\",outputCol=\"access_amt_buckets_fact\")\n",
    "access_data_diff_idx = StringIndexer(inputCol=\"access_data_diff_buckets\",outputCol=\"access_data_diff_buckets_index\")\n",
    "access_data_diff_vec = OneHotEncoder(inputCol=\"access_data_diff_buckets_index\",outputCol=\"access_data_diff_buckets_fact\")\n",
    "feat_amt_idx = StringIndexer(inputCol=\"feat_amt_buckets\",outputCol=\"feat_amt_buckets_index\")\n",
    "feat_amt_vec = OneHotEncoder(inputCol=\"feat_amt_buckets_index\",outputCol=\"feat_amt_buckets_fact\")\n",
    "late_pymnt_chrg_amt_idx = StringIndexer(inputCol=\"late_pymnt_chrg_amt_buckets\",outputCol=\"late_pymnt_chrg_amt_buckets_index\")\n",
    "late_pymnt_chrg_amt_vec = OneHotEncoder(inputCol=\"late_pymnt_chrg_amt_buckets_index\",outputCol=\"late_pymnt_chrg_amt_fact\")\n",
    "occ_amt_idx = StringIndexer(inputCol=\"occ_amt_buckets\",outputCol=\"occ_amt_buckets_index\")\n",
    "occ_amt_vec = OneHotEncoder(inputCol=\"occ_amt_buckets_index\",outputCol=\"occ_amt_fact\")\n",
    "prev_tvl_count_idx = StringIndexer(inputCol=\"prev_tvl_count_buckets\",outputCol=\"prev_tvl_count_buckets_index\")\n",
    "prev_tvl_count_vec = OneHotEncoder(inputCol=\"prev_tvl_count_buckets_index\",outputCol=\"prev_tvl_count_fact\")\n",
    "prev_call_count_idx = StringIndexer(inputCol=\"prev_call_count_buckets\",outputCol=\"prev_call_count_buckets_index\")\n",
    "prev_call_count_vec = OneHotEncoder(inputCol=\"prev_call_count_buckets_index\",outputCol=\"prev_call_count_fact\")"
   ]
  },
  {
   "cell_type": "code",
   "execution_count": null,
   "metadata": {},
   "outputs": [],
   "source": [
    "recent_cntry_idx = StringIndexer(inputCol=\"ccd1\",outputCol=\"ccd1_index\")\n",
    "recent_cntry_vec = OneHotEncoder(inputCol=\"ccd1_index\",outputCol=\"ccd1_fact\")"
   ]
  },
  {
   "cell_type": "code",
   "execution_count": null,
   "metadata": {},
   "outputs": [],
   "source": [
    "plans_visited_ind_idx = StringIndexer(inputCol=\"plans_visited_ind\",outputCol=\"plans_visited_ind_index\")\n",
    "plans_visited_ind_vec = OneHotEncoder(inputCol=\"plans_visited_ind_index\",outputCol=\"plans_visited_ind_fact\")\n",
    "intl_plans_visited_ind_idx = StringIndexer(inputCol=\"intl_plans_visited_ind\",outputCol=\"intl_plans_visited_ind_index\")\n",
    "intl_plans_visited_ind_vec = OneHotEncoder(inputCol=\"intl_plans_visited_ind_index\",outputCol=\"intl_plans_visited_ind_fact\")\n",
    "trvln_outsid_us_ind_idx = StringIndexer(inputCol=\"trvln_outsid_us_ind\",outputCol=\"trvln_outsid_us_ind_index\")\n",
    "trvln_outsid_us_ind_vec = OneHotEncoder(inputCol=\"trvln_outsid_us_ind_index\",outputCol=\"trvln_outsid_us_ind_fact\")\n",
    "trip_planner_ind_idx = StringIndexer(inputCol=\"trip_planner_ind\",outputCol=\"trip_planner_ind_index\")\n",
    "trip_planner_ind_vec = OneHotEncoder(inputCol=\"trip_planner_ind_index\",outputCol=\"trip_planner_ind_fact\")\n",
    "while_outside_us_ind_idx = StringIndexer(inputCol=\"while_outside_us_ind\",outputCol=\"while_outside_us_ind_index\")\n",
    "while_outside_us_ind_vec = OneHotEncoder(inputCol=\"while_outside_us_ind_index\",outputCol=\"while_outside_us_ind_fact\")\n",
    "support_ind_idx = StringIndexer(inputCol=\"support_ind\",outputCol=\"support_ind_index\")\n",
    "support_ind_vec = OneHotEncoder(inputCol=\"support_ind_index\",outputCol=\"support_ind_fact\")\n",
    "billing_and_payment_ind_idx = StringIndexer(inputCol=\"billing_and_payment_ind\",outputCol=\"billing_and_payment_ind_index\")\n",
    "billing_and_payment_ind_vec = OneHotEncoder(inputCol=\"billing_and_payment_ind_index\",outputCol=\"billing_and_payment_ind_fact\")\n",
    "plan_and_account_ind_idx = StringIndexer(inputCol=\"plan_and_account_ind\",outputCol=\"plan_and_account_ind_index\")\n",
    "plan_and_account_ind_vec = OneHotEncoder(inputCol=\"plan_and_account_ind_index\",outputCol=\"plan_and_account_ind_fact\")\n",
    "device_troubleshooting_assistant_ind_idx = StringIndexer(inputCol=\"device_troubleshooting_assistant_ind\",outputCol=\"device_troubleshooting_assistant_ind_index\")\n",
    "device_troubleshooting_assistant_ind_vec = OneHotEncoder(inputCol=\"device_troubleshooting_assistant_ind_index\",outputCol=\"device_troubleshooting_assistant_ind_fact\")\n",
    "international_services_ind_idx = StringIndexer(inputCol=\"international_services_ind\",outputCol=\"international_services_ind_index\")\n",
    "international_services_ind_vec = OneHotEncoder(inputCol=\"international_services_ind_index\",outputCol=\"international_services_ind_fact\")\n",
    "bill_ind_idx = StringIndexer(inputCol=\"bill_ind\",outputCol=\"bill_ind_index\")\n",
    "bill_ind_vec = OneHotEncoder(inputCol=\"bill_ind_index\",outputCol=\"bill_ind_fact\")\n",
    "overview_ind_idx = StringIndexer(inputCol=\"overview_ind\",outputCol=\"overview_ind_index\")\n",
    "overview_ind_vec = OneHotEncoder(inputCol=\"overview_ind_index\",outputCol=\"overview_ind_fact\")\n",
    "next_bill_estimate_ind_idx = StringIndexer(inputCol=\"next_bill_estimate_ind\",outputCol=\"next_bill_estimate_ind_index\")\n",
    "next_bill_estimate_ind_vec = OneHotEncoder(inputCol=\"next_bill_estimate_ind_index\",outputCol=\"next_bill_estimate_ind_fact\")\n",
    "payment_history_ind_idx = StringIndexer(inputCol=\"payment_history_ind\",outputCol=\"payment_history_ind_index\")\n",
    "payment_history_ind_vec = OneHotEncoder(inputCol=\"payment_history_ind_index\",outputCol=\"payment_history_ind_fact\")\n",
    "family_controls_ind_idx = StringIndexer(inputCol=\"family_controls_ind\",outputCol=\"family_controls_ind_index\")\n",
    "family_controls_ind_vec = OneHotEncoder(inputCol=\"family_controls_ind_index\",outputCol=\"family_controls_ind_fact\")"
   ]
  },
  {
   "cell_type": "code",
   "execution_count": null,
   "metadata": {},
   "outputs": [],
   "source": [
    "mfapp_plans_visited_ind_idx = StringIndexer(inputCol=\"mfapp_plans_visited_ind\",outputCol=\"mfapp_plans_visited_ind_index\")\n",
    "mfapp_plans_visited_ind_vec = OneHotEncoder(inputCol=\"mfapp_plans_visited_ind_index\",outputCol=\"mfapp_plans_visited_ind_fact\")\n",
    "mfapp_intl_plans_visited_ind_idx = StringIndexer(inputCol=\"mfapp_intl_plans_visited_ind\",outputCol=\"mfapp_intl_plans_visited_ind_index\")\n",
    "mfapp_intl_plans_visited_ind_vec = OneHotEncoder(inputCol=\"mfapp_intl_plans_visited_ind_index\",outputCol=\"mfapp_intl_plans_visited_ind_fact\")\n",
    "mfapp_trvln_outsid_us_ind_idx = StringIndexer(inputCol=\"mfapp_trvln_outsid_us_ind\",outputCol=\"mfapp_trvln_outsid_us_ind_index\")\n",
    "mfapp_trvln_outsid_us_ind_vec = OneHotEncoder(inputCol=\"mfapp_trvln_outsid_us_ind_index\",outputCol=\"mfapp_trvln_outsid_us_ind_fact\")\n",
    "mfapp_trip_planner_ind_idx = StringIndexer(inputCol=\"mfapp_trip_planner_ind\",outputCol=\"mfapp_trip_planner_ind_index\")\n",
    "mfapp_trip_planner_ind_vec = OneHotEncoder(inputCol=\"mfapp_trip_planner_ind_index\",outputCol=\"mfapp_trip_planner_ind_fact\")\n",
    "mfapp_while_outside_us_ind_idx = StringIndexer(inputCol=\"mfapp_while_outside_us_ind\",outputCol=\"mfapp_while_outside_us_ind_index\")\n",
    "mfapp_while_outside_us_ind_vec = OneHotEncoder(inputCol=\"mfapp_while_outside_us_ind_index\",outputCol=\"mfapp_while_outside_us_ind_fact\")\n",
    "mfapp_support_ind_idx = StringIndexer(inputCol=\"mfapp_support_ind\",outputCol=\"mfapp_support_ind_index\")\n",
    "mfapp_support_ind_vec = OneHotEncoder(inputCol=\"mfapp_support_ind_index\",outputCol=\"mfapp_support_ind_fact\")\n",
    "mfapp_billing_and_payment_ind_idx = StringIndexer(inputCol=\"mfapp_billing_and_payment_ind\",outputCol=\"mfapp_billing_and_payment_ind_index\")\n",
    "mfapp_billing_and_payment_ind_vec = OneHotEncoder(inputCol=\"mfapp_billing_and_payment_ind_index\",outputCol=\"mfapp_billing_and_payment_ind_fact\")\n",
    "mfapp_plan_and_account_ind_idx = StringIndexer(inputCol=\"mfapp_plan_and_account_ind\",outputCol=\"mfapp_plan_and_account_ind_index\")\n",
    "mfapp_plan_and_account_ind_vec = OneHotEncoder(inputCol=\"mfapp_plan_and_account_ind_index\",outputCol=\"mfapp_plan_and_account_ind_fact\")\n",
    "mfapp_device_troubleshooting_assistant_ind_idx = StringIndexer(inputCol=\"mfapp_device_troubleshooting_assistant_ind\",outputCol=\"mfapp_device_troubleshooting_assistant_ind_index\")\n",
    "mfapp_device_troubleshooting_assistant_ind_vec = OneHotEncoder(inputCol=\"mfapp_device_troubleshooting_assistant_ind_index\",outputCol=\"mfapp_device_troubleshooting_assistant_ind_fact\")\n",
    "mfapp_international_services_ind_idx = StringIndexer(inputCol=\"mfapp_international_services_ind\",outputCol=\"mfapp_international_services_ind_index\")\n",
    "mfapp_international_services_ind_vec = OneHotEncoder(inputCol=\"mfapp_international_services_ind_index\",outputCol=\"mfapp_international_services_ind_fact\")\n",
    "mfapp_bill_ind_idx = StringIndexer(inputCol=\"mfapp_bill_ind\",outputCol=\"mfapp_bill_ind_index\")\n",
    "mfapp_bill_ind_vec = OneHotEncoder(inputCol=\"mfapp_bill_ind_index\",outputCol=\"mfapp_bill_ind_fact\")\n",
    "mfapp_overview_ind_idx = StringIndexer(inputCol=\"mfapp_overview_ind\",outputCol=\"mfapp_overview_ind_index\")\n",
    "mfapp_overview_ind_vec = OneHotEncoder(inputCol=\"mfapp_overview_ind_index\",outputCol=\"mfapp_overview_ind_fact\")\n",
    "mfapp_next_bill_estimate_ind_idx = StringIndexer(inputCol=\"mfapp_next_bill_estimate_ind\",outputCol=\"mfapp_next_bill_estimate_ind_index\")\n",
    "mfapp_next_bill_estimate_ind_vec = OneHotEncoder(inputCol=\"mfapp_next_bill_estimate_ind_index\",outputCol=\"mfapp_next_bill_estimate_ind_fact\")\n",
    "mfapp_payment_history_ind_idx = StringIndexer(inputCol=\"mfapp_payment_history_ind\",outputCol=\"mfapp_payment_history_ind_index\")\n",
    "mfapp_payment_history_ind_vec = OneHotEncoder(inputCol=\"mfapp_payment_history_ind_index\",outputCol=\"mfapp_payment_history_ind_fact\")\n",
    "mfapp_family_controls_ind_idx = StringIndexer(inputCol=\"mfapp_family_controls_ind\",outputCol=\"mfapp_family_controls_ind_index\")\n",
    "mfapp_family_controls_ind_vec = OneHotEncoder(inputCol=\"mfapp_family_controls_ind_index\",outputCol=\"mfapp_family_controls_ind_fact\")"
   ]
  },
  {
   "cell_type": "code",
   "execution_count": null,
   "metadata": {},
   "outputs": [],
   "source": [
    "from pyspark.ml import Pipeline\n",
    "vec_assembler = VectorAssembler(inputCols=[\"msg_allow_share_ind_fact\",\"data_allow_share_ind_fact\",\n",
    "                                           \"voice_allow_share_ind_fact\",\n",
    "                                           \"tvl1_call1_buckets_fact\",\"bill_call1_buckets_fact\",\n",
    "                                           \"free_plan_fact\",\"line_type_fact\",\"tvl_pass_included_fact\",\"can_mex_free_plan_fact\",\"primary1_topic_fact\",\n",
    "                                           \"primary2_topic_fact\",\"primary3_topic_fact\",\"primary4_topic_fact\",\"primary5_topic_fact\",\n",
    "                                           \"access_amt_buckets_fact\",\"access_data_diff_buckets_fact\",\"feat_amt_buckets_fact\",\n",
    "                                           \"late_pymnt_chrg_amt_fact\",\"occ_amt_fact\",\"prev_tvl_count_fact\",\"prev_call_count_fact\",\n",
    "                                           \"ccd1_fact\", 'plans_visited_ind_fact','trip_planner_ind_fact','support_ind_fact',\n",
    "'bill_ind_fact',\n",
    "'overview_ind_fact',\n",
    "'payment_history_ind_fact',\n",
    "'mfapp_plans_visited_ind_fact',\n",
    "'mfapp_support_ind_fact',\n",
    "'mfapp_bill_ind_fact',\n",
    "'mfapp_overview_ind_fact',\n",
    "'mfapp_payment_history_ind_fact'], outputCol=\"features_final\")\n",
    "\n",
    "\n",
    "\n",
    "\n",
    "# Make the pipeline\n",
    "dataset_pipe = Pipeline(stages=[msg_allow_share_ind_idx,data_allow_share_ind_idx,\n",
    "                                           voice_allow_share_ind_idx,\n",
    "                                           tvl1_call1_idx,bill_call1_idx,\n",
    "                                           free_plan_idx,\n",
    "                                           msg_allow_share_ind_vec,data_allow_share_ind_vec,\n",
    "                                           voice_allow_share_ind_vec,\n",
    "                                           tvl1_call1_vec,bill_call1_vec,\n",
    "                                           free_plan_vec,line_type_idx,line_type_vec,tvl_pass_included_idx,tvl_pass_included_vec,\n",
    "                                can_mex_free_plan_idx,can_mex_free_plan_vec,primary1_topic_idx,primary1_topic_vec,\n",
    "                                primary2_topic_idx,primary2_topic_vec,primary3_topic_idx,primary3_topic_vec,\n",
    "                                primary4_topic_idx,primary4_topic_vec,primary5_topic_idx,primary5_topic_vec,\n",
    "                                access_amt_idx,access_amt_vec,access_data_diff_idx ,access_data_diff_vec,feat_amt_idx,feat_amt_vec,\n",
    "                               late_pymnt_chrg_amt_idx, late_pymnt_chrg_amt_vec,occ_amt_idx,occ_amt_vec,\n",
    "                                prev_tvl_count_idx,prev_tvl_count_vec,prev_call_count_idx,prev_call_count_vec,\n",
    "                                recent_cntry_idx,recent_cntry_vec,plans_visited_ind_idx,trip_planner_ind_idx,support_ind_idx,\n",
    "bill_ind_idx,\n",
    "overview_ind_idx,\n",
    "payment_history_ind_idx,\n",
    "mfapp_plans_visited_ind_idx,\n",
    "mfapp_support_ind_idx,\n",
    "mfapp_bill_ind_idx,\n",
    "mfapp_overview_ind_idx,\n",
    "mfapp_payment_history_ind_idx,plans_visited_ind_vec,trip_planner_ind_vec,support_ind_vec,\n",
    "bill_ind_vec,\n",
    "overview_ind_vec,\n",
    "payment_history_ind_vec,\n",
    "\n",
    "mfapp_plans_visited_ind_vec,\n",
    "mfapp_support_ind_vec,\n",
    "mfapp_bill_ind_vec,\n",
    "mfapp_overview_ind_vec,\n",
    "mfapp_payment_history_ind_vec,                                \n",
    "labelIndexer,vec_assembler])"
   ]
  },
  {
   "cell_type": "code",
   "execution_count": null,
   "metadata": {},
   "outputs": [],
   "source": [
    "import pandas as pd\n",
    "pd.set_option('display.max_columns', None)\n",
    "pd.set_option('display.max_rows', None)\n",
    "features.limit(100).toPandas()"
   ]
  },
  {
   "cell_type": "code",
   "execution_count": null,
   "metadata": {},
   "outputs": [],
   "source": [
    "training, testing = features.randomSplit([0.8,0.2])"
   ]
  },
  {
   "cell_type": "code",
   "execution_count": null,
   "metadata": {},
   "outputs": [],
   "source": [
    "training_data_pipeline = dataset_pipe.fit(training)"
   ]
  },
  {
   "cell_type": "code",
   "execution_count": null,
   "metadata": {},
   "outputs": [],
   "source": [
    "training_datapiped=training_data_pipeline.transform(training)"
   ]
  },
  {
   "cell_type": "code",
   "execution_count": null,
   "metadata": {},
   "outputs": [],
   "source": [
    "training_data_pipeline.save(\"/user/kreddy01/final_sc_11_11_2019\")"
   ]
  },
  {
   "cell_type": "code",
   "execution_count": null,
   "metadata": {},
   "outputs": [],
   "source": [
    "testing_datapipe=training_data_pipeline.transform(testing)"
   ]
  },
  {
   "cell_type": "code",
   "execution_count": null,
   "metadata": {},
   "outputs": [],
   "source": [
    "#testing_datapipe.select('features_final').show(5, truncate=False)"
   ]
  },
  {
   "cell_type": "code",
   "execution_count": null,
   "metadata": {},
   "outputs": [],
   "source": [
    "training_data_pipe_bill=training_datapiped.filter(training_datapiped.primary_topic=='billing').limit(63900)\n",
    "training_data_pipe_crus=training_datapiped.filter(training_datapiped.primary_topic=='cruise').limit(63900)\n",
    "training_data_pipe_plan=training_datapiped.filter(training_datapiped.primary_topic=='plan_travelpass').limit(63900)\n",
    "training_data_pipe_ph=training_datapiped.filter(training_datapiped.primary_topic=='phone_settings').limit(63900)"
   ]
  },
  {
   "cell_type": "code",
   "execution_count": null,
   "metadata": {},
   "outputs": [],
   "source": [
    "import functools \n",
    "def unionAll(dfs):\n",
    "    return functools.reduce(lambda df1,df2: df1.union(df2.select(df1.columns)), dfs) \n",
    "training_data_pipe_all = unionAll([training_data_pipe_bill,training_data_pipe_crus,training_data_pipe_plan,training_data_pipe_ph])"
   ]
  },
  {
   "cell_type": "code",
   "execution_count": null,
   "metadata": {},
   "outputs": [],
   "source": [
    "# Rename \"Prediction_Value\" as \"Prediction_Index\" and \"Probability_value\" as \"Probability_Score\""
   ]
  },
  {
   "cell_type": "code",
   "execution_count": null,
   "metadata": {},
   "outputs": [],
   "source": [
    "from pyspark.ml.classification import  RandomForestClassifier\n",
    "rf = RandomForestClassifier(featuresCol=\"features_final\",\n",
    "                           labelCol=\"label\",\n",
    "                           predictionCol=\"Prediction_Index\", rawPredictionCol='Probability_Score',probabilityCol='normalised_probability',\n",
    "                           maxDepth=30,numTrees=20,minInstancesPerNode=1)\n",
    "\n",
    "# Fit the model\n",
    "rfModel = rf.fit(training_data_pipe_all)"
   ]
  },
  {
   "cell_type": "code",
   "execution_count": null,
   "metadata": {},
   "outputs": [],
   "source": [
    "rfModel.save('/user/kreddy01/rfmodel_11_11_2019')"
   ]
  },
  {
   "cell_type": "code",
   "execution_count": null,
   "metadata": {},
   "outputs": [],
   "source": [
    "from pyspark.ml.evaluation import MulticlassClassificationEvaluator\n",
    "predictions = rfModel.transform(testing_datapipe)\n",
    "evaluatorRFF = MulticlassClassificationEvaluator(labelCol=\"label\", predictionCol=\"Prediction_Index\", metricName=\"accuracy\")\n",
    "accuracy = evaluatorRFF.evaluate(predictions)"
   ]
  },
  {
   "cell_type": "code",
   "execution_count": null,
   "metadata": {},
   "outputs": [],
   "source": [
    "#predictions.dtypes"
   ]
  },
  {
   "cell_type": "code",
   "execution_count": null,
   "metadata": {},
   "outputs": [],
   "source": [
    "#labelConverter = IndexToString(inputCol=\"Prediction_Index\", outputCol=\"Predicted_Label\", labels=labelIndexer.labels)"
   ]
  },
  {
   "cell_type": "code",
   "execution_count": null,
   "metadata": {},
   "outputs": [],
   "source": [
    "#converter = IndexToString(inputCol=\"categoryIndex\", outputCol=\"originalCategory\")\n",
    "#predictions = labelConverter.transform(predictions)\n",
    "#labelConverter.select('predictedLabel').show()"
   ]
  },
  {
   "cell_type": "code",
   "execution_count": null,
   "metadata": {},
   "outputs": [],
   "source": [
    "predictions.show(5)"
   ]
  },
  {
   "cell_type": "code",
   "execution_count": null,
   "metadata": {},
   "outputs": [],
   "source": [
    "print(\"Accuracy = %g\" % accuracy)\n",
    "print(\"Test Error = %g\" % (1.0 - accuracy))"
   ]
  },
  {
   "cell_type": "code",
   "execution_count": null,
   "metadata": {},
   "outputs": [],
   "source": [
    "from pyspark.mllib.evaluation import BinaryClassificationMetrics, MulticlassMetrics\n",
    "predictions_cfp=predictions.select(\"Prediction_Index\", \"label\").rdd\n",
    "metrics=MulticlassMetrics(predictions_cfp)\n",
    "print(metrics.confusionMatrix())"
   ]
  },
  {
   "cell_type": "code",
   "execution_count": null,
   "metadata": {},
   "outputs": [],
   "source": [
    "predictions.dtypes"
   ]
  },
  {
   "cell_type": "code",
   "execution_count": null,
   "metadata": {},
   "outputs": [],
   "source": []
  }
 ],
 "metadata": {
  "kernel_args": {
   "conf": {
    "spark.driver.maxResultSize": "10g",
    "spark.driver.memoryOverhead": "36g",
    "spark.executor.memoryOverhead": "36g"
   },
   "driver-cores": "12",
   "driver-memory": "36g",
   "executor-cores": "16",
   "executor-memory": "64g",
   "num-executors": "150",
   "version": "current-2.3"
  },
  "kernelspec": {
   "display_name": "PySpark 3 (Beta)",
   "language": "",
   "name": "pysparkkernel3"
  },
  "language_info": {
   "codemirror_mode": {
    "name": "python",
    "version": 3
   },
   "mimetype": "text/x-python",
   "name": "pyspark3",
   "pygments_lexer": "ipython2",
   "version": "1.0"
  }
 },
 "nbformat": 4,
 "nbformat_minor": 2
}