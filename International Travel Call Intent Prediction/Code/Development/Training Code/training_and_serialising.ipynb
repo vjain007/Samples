{
 "cells": [
  {
   "cell_type": "code",
   "execution_count": null,
   "metadata": {},
   "outputs": [],
   "source": [
    "from pyspark.sql.functions import *\n",
    "from pyspark.sql.types import *\n",
    "from pyspark.ml.feature import *\n",
    "import pandas as pd\n",
    "from pyspark.ml import Pipeline, PipelineModel\n",
    "from pyspark.ml.classification import  RandomForestClassifier,RandomForestClassificationModel\n",
    "import numpy as np\n",
    "from pyspark.ml.linalg import *\n",
    "from pyspark.ml.linalg import Vectors, VectorUDT\n",
    "import numpy as np\n",
    "import matplotlib.pyplot as plt"
   ]
  },
  {
   "cell_type": "code",
   "execution_count": null,
   "metadata": {},
   "outputs": [],
   "source": [
    "features_train = spark.sql(\"select * from VZW_SOI_PRD_TBLS.vzsoi_intl_call_base_tbl_v5\")"
   ]
  },
  {
   "cell_type": "code",
   "execution_count": null,
   "metadata": {},
   "outputs": [],
   "source": [
    "features_train.dtypes"
   ]
  },
  {
   "cell_type": "code",
   "execution_count": null,
   "metadata": {
    "scrolled": false
   },
   "outputs": [],
   "source": [
    "#https://arxiv.org/pdf/1904.07199.pdf\n",
    "features=features_train.select('mtn','ivr_call_id','msg_allow_share_ind','data_allow_share_ind','voice_allow_share_ind','lst_session_mfapp_activate_tp_ind','lst_session_mfapp_billing_ind',\n",
    "                               'lst_session_mfapp_cruise_ind','lst_session_mfapp_usage_ind','lst_session_mfapp_support_ind',\n",
    "                               'lst_session_mfapp_can_mex_ind',\n",
    "                               'lst_session_mfapp_tp_enquiry_ind','lst_session_mfapp_countries_ind',\n",
    "                               'lst_session_mfapp_disable_tp_ind',\n",
    "                               'mvo_activate_tp_ind','mvo_intl_billing_ind','mvo_tripplanner_ind',\n",
    "                               'mvo_cruise_ind','mvo_tp_video_ind','mvo_usage_ind','mvo_faq_international_ind',\n",
    "                               'mvo_device_support_ind','mvo_faq_general_ind','mvo_faq_outsideus_ind',\n",
    "                               'mvo_settings_ind','mvo_can_mex_ind','mvo_unlimitedplans_ind',\n",
    "                               'mvo_tp_enquiry_ind','mvo_last_pg_vst_time',\n",
    "                               'mva_activate_tp_ind','mva_intl_billing_ind','mva_cruise_ind',\n",
    "                               'mva_usage_ind','mva_device_support_ind',\n",
    "                               'mva_can_mex_ind','mva_tp_enquiry_ind','mva_countries_ind','mva_disable_tp_ind',\n",
    "                               'mva_devices_ind','mva_last_pg_vst_time',\n",
    "                               'lst_session_activate_tp_ind','lst_session_billing_ind','lst_session_tripplanner_ind',\n",
    "                               'lst_session_cruise_ind','lst_session_tp_video_vstd_ind','lst_session_usage_ind',\n",
    "                               'lst_session_faq_international_ind','lst_session_device_support_ind',\n",
    "                               'lst_session_faq_general_ind','lst_session_faq_outsideus_ind',\n",
    "                               'lst_session_settings_ind',\n",
    "                               'lst_session_can_mex_ind','lst_session_unlimitedplan_ind',\n",
    "                               'lst_session_tp_enquiry_ind','lst_session_faq_prepaid_ind',\n",
    "                               'pplan_eff_dt','access_amt','data_access_amt','bi_pplan_ctgry_desc',                              'bi_data_allow_tier_value','svc_prod_desc1','svc_prod_desc2','svc_prod_desc3',\n",
    "                               'mtrans_ts1','mtrans_ts2','mtrans_ts3',\n",
    "                               'max_svc_prod_eff_dt1','free_plan','line_type',\n",
    "                               'tvl_pass_included','can_mex_free_plan','region_desc','call_start_tm_stmp','bill_cycle_dt',\n",
    "                               'feat_amt','pymnt_recvd_amt','bill_bal_amt','bill_curr_amt','LATE_PYMNT_CHRG_AMT',\n",
    "                               'bill_6_mth_avg','occ_reasons','trans_dt',\n",
    "                               'agg_occ_value','occ_amt',\n",
    "                               'prev_agg_occ_value','prev_feat_amt','prev_due_amt','prev_pymnt_recvd_amt',\n",
    "                               'prev_bill_bal_amt','prev_late_pymnt_chrg_amt','prev_occ_amt','prev_bill_curr_amt','prev_trans_dt',\n",
    "                               'total_data_allow','plan_data_allow','bonus_data_allow','tenure','call_ts1',\n",
    "                               'call_ts2','call_ts3','call_ts4','call_ts5','call_ts6','call_ts7','call_ts8','call_ts9','call_ts10',\n",
    "                               'primary1_topic','primary2_topic','primary3_topic','primary4_topic',\n",
    "                               'primary5_topic','primary6_topic','primary7_topic','primary8_topic','primary9_topic','primary10_topic',\n",
    "                               'tvl1','tvl2','tvl3','tvl4','tvl5','tvl6','tvl7','tvl8','tvl9','tvl10',\n",
    "                               'ccd1','ccd2','ccd3','ccd4','ccd5','ccd6','ccd7','ccd8','ccd9','ccd10',\n",
    "                               'primary_topic',\n",
    "                               'prev_tvl_count','prev_call_count','pplan_bndl_type_cd',\n",
    "                               'alert_type','MSG_TIMESTAMP')"
   ]
  },
  {
   "cell_type": "code",
   "execution_count": null,
   "metadata": {},
   "outputs": [],
   "source": [
    "features=features.dropna(subset=['primary_topic'])\n"
   ]
  },
  {
   "cell_type": "code",
   "execution_count": null,
   "metadata": {},
   "outputs": [],
   "source": [
    "filter_site_columns=['lst_session_mfapp_activate_tp_ind','lst_session_mfapp_billing_ind',\n",
    "                               'lst_session_mfapp_cruise_ind','lst_session_mfapp_usage_ind','lst_session_mfapp_support_ind',\n",
    "                               'lst_session_mfapp_can_mex_ind',\n",
    "                               'lst_session_mfapp_tp_enquiry_ind','lst_session_mfapp_countries_ind',\n",
    "                               'lst_session_mfapp_disable_tp_ind',\n",
    "                               'mvo_activate_tp_ind','mvo_intl_billing_ind','mvo_tripplanner_ind',\n",
    "                               'mvo_cruise_ind','mvo_tp_video_ind','mvo_usage_ind','mvo_faq_international_ind',\n",
    "                               'mvo_device_support_ind','mvo_faq_general_ind','mvo_faq_outsideus_ind',\n",
    "                               'mvo_settings_ind','mvo_can_mex_ind','mvo_unlimitedplans_ind',\n",
    "                               'mvo_tp_enquiry_ind',\n",
    "                               'mva_activate_tp_ind','mva_intl_billing_ind','mva_cruise_ind',\n",
    "                               'mva_usage_ind','mva_device_support_ind',\n",
    "                               'mva_can_mex_ind','mva_tp_enquiry_ind','mva_countries_ind','mva_disable_tp_ind',\n",
    "                               'mva_devices_ind',\n",
    "                               'lst_session_activate_tp_ind','lst_session_billing_ind','lst_session_tripplanner_ind',\n",
    "                               'lst_session_cruise_ind','lst_session_tp_video_vstd_ind','lst_session_usage_ind',\n",
    "                               'lst_session_faq_international_ind','lst_session_device_support_ind',\n",
    "                               'lst_session_faq_general_ind','lst_session_faq_outsideus_ind',\n",
    "                               'lst_session_settings_ind',\n",
    "                               'lst_session_can_mex_ind','lst_session_unlimitedplan_ind',\n",
    "                               'lst_session_tp_enquiry_ind','lst_session_faq_prepaid_ind']"
   ]
  },
  {
   "cell_type": "code",
   "execution_count": null,
   "metadata": {},
   "outputs": [],
   "source": [
    "filter_real_time=['lst_session_mfapp_activate_tp_ind','lst_session_mfapp_billing_ind',\n",
    "                               'lst_session_mfapp_cruise_ind','lst_session_mfapp_usage_ind','lst_session_mfapp_support_ind',\n",
    "                               'lst_session_mfapp_can_mex_ind',\n",
    "                               'lst_session_mfapp_tp_enquiry_ind','lst_session_mfapp_countries_ind',\n",
    "                               'lst_session_mfapp_disable_tp_ind','lst_session_activate_tp_ind','lst_session_billing_ind','lst_session_tripplanner_ind',\n",
    "                               'lst_session_cruise_ind','lst_session_tp_video_vstd_ind','lst_session_usage_ind',\n",
    "                               'lst_session_faq_international_ind','lst_session_device_support_ind',\n",
    "                               'lst_session_faq_general_ind','lst_session_faq_outsideus_ind',\n",
    "                               'lst_session_settings_ind',\n",
    "                               'lst_session_can_mex_ind','lst_session_unlimitedplan_ind',\n",
    "                               'lst_session_tp_enquiry_ind','lst_session_faq_prepaid_ind']"
   ]
  },
  {
   "cell_type": "code",
   "execution_count": null,
   "metadata": {},
   "outputs": [],
   "source": [
    "filter_batch_time=['mvo_activate_tp_ind','mvo_intl_billing_ind','mvo_tripplanner_ind',\n",
    "                               'mvo_cruise_ind','mvo_tp_video_ind','mvo_usage_ind','mvo_faq_international_ind',\n",
    "                               'mvo_device_support_ind','mvo_faq_general_ind','mvo_faq_outsideus_ind',\n",
    "                               'mvo_settings_ind','mvo_can_mex_ind','mvo_unlimitedplans_ind',\n",
    "                               'mvo_tp_enquiry_ind',\n",
    "                               'mva_activate_tp_ind','mva_intl_billing_ind','mva_cruise_ind',\n",
    "                               'mva_usage_ind','mva_device_support_ind',\n",
    "                               'mva_can_mex_ind','mva_tp_enquiry_ind','mva_countries_ind','mva_disable_tp_ind',\n",
    "                               'mva_devices_ind']"
   ]
  },
  {
   "cell_type": "code",
   "execution_count": null,
   "metadata": {},
   "outputs": [],
   "source": [
    "for i in filter_site_columns:\n",
    "    features = features.withColumn('{}'.format(i),when(col('{}'.format(i)).isNull(),0.0).otherwise(col('{}'.format(i))))\n",
    "    features = features.withColumn('{}'.format(i), features['{}'.format(i)].cast(FloatType()))"
   ]
  },
  {
   "cell_type": "code",
   "execution_count": null,
   "metadata": {},
   "outputs": [],
   "source": [
    "date_columns=['pplan_eff_dt','mtrans_ts1','mtrans_ts2','mtrans_ts3','max_svc_prod_eff_dt1',\n",
    "             'bill_cycle_dt','trans_dt','prev_trans_dt',\n",
    "             'call_ts1','call_ts2','call_ts3','call_ts4','call_ts5','call_ts6','call_ts7','call_ts8','call_ts9','call_ts10',\n",
    "              'tvl1','tvl2','tvl3','tvl4','tvl5','tvl6','tvl7','tvl8','tvl9','tvl10',\n",
    "              'MSG_TIMESTAMP','mvo_last_pg_vst_time','mva_last_pg_vst_time']"
   ]
  },
  {
   "cell_type": "code",
   "execution_count": null,
   "metadata": {},
   "outputs": [],
   "source": [
    "features=features.drop_duplicates()"
   ]
  },
  {
   "cell_type": "code",
   "execution_count": null,
   "metadata": {},
   "outputs": [],
   "source": [
    "date_diff=[-float(\"inf\"),0.0,2.0,7.0,30.0,60.0,90.0,180.0,float(\"inf\")]"
   ]
  },
  {
   "cell_type": "code",
   "execution_count": null,
   "metadata": {},
   "outputs": [],
   "source": [
    "date_splits={}\n",
    "date_bucketizer={}\n",
    "for i in date_columns:\n",
    "    features=features.withColumn('call_{}'.format(i),datediff('call_start_tm_stmp','{}'.format(i)))\n",
    "    features=features.withColumn('call_{}'.format(i),when(col('call_{}'.format(i))<0,None).otherwise(col('call_{}'.format(i))))\n",
    "    #date_splits[i]=[-float(\"inf\")]+np.unique(features.approxQuantile('call_{}'.format(i),(date_diff),thsld)).tolist()+[float(\"inf\")]\n",
    "    date_bucketizer[i] = Bucketizer(splits=date_diff,inputCol=\"call_{}\".format(i), outputCol=\"call_{}_buckets\".format(i),handleInvalid=\"keep\")\n",
    "    features=date_bucketizer[i].transform(features)\n",
    "    date_bucketizer[i].save('/user/kreddy01/call_intet_intl_prediction_experiment/model_object_02_26_2020/value_bucketizer_{}'.format(i))"
   ]
  },
  {
   "cell_type": "code",
   "execution_count": null,
   "metadata": {},
   "outputs": [],
   "source": [
    "value_diff=[0.1,0.25,0.5,0.75,0.9]\n",
    "thsld=0"
   ]
  },
  {
   "cell_type": "code",
   "execution_count": null,
   "metadata": {},
   "outputs": [],
   "source": [
    "double_columns=['prev_tvl_count','prev_call_count','bi_data_allow_tier_value']"
   ]
  },
  {
   "cell_type": "code",
   "execution_count": null,
   "metadata": {},
   "outputs": [],
   "source": [
    "features=features.withColumn('bill_shock',(col('bill_curr_amt')-col('bill_6_mth_avg'))/col('bill_6_mth_avg'))"
   ]
  },
  {
   "cell_type": "code",
   "execution_count": null,
   "metadata": {},
   "outputs": [],
   "source": [
    "##Bill_30_day_amt, 90_day_amt and 180 _day_amt are not populated properly\n",
    "float_columns=['access_amt', 'data_access_amt','feat_amt','pymnt_recvd_amt','bill_bal_amt','bill_curr_amt','bill_shock','LATE_PYMNT_CHRG_AMT',\n",
    "                               'agg_occ_value','occ_amt',\n",
    "                               'prev_agg_occ_value','prev_feat_amt','prev_due_amt','prev_pymnt_recvd_amt',\n",
    "                               'prev_bill_bal_amt','prev_late_pymnt_chrg_amt','prev_occ_amt','prev_bill_curr_amt']\n",
    "#payment revrs_amt is not considered becuase it rarely has values"
   ]
  },
  {
   "cell_type": "code",
   "execution_count": null,
   "metadata": {},
   "outputs": [],
   "source": [
    "value_columns=float_columns+double_columns\n",
    "for i in value_columns:\n",
    "    if i in double_columns:\n",
    "        features = features.withColumn('{}'.format(i), features['{}'.format(i)].cast(DoubleType()))\n",
    "    else:\n",
    "        features = features.withColumn('{}'.format(i), features['{}'.format(i)].cast(FloatType())) "
   ]
  },
  {
   "cell_type": "code",
   "execution_count": null,
   "metadata": {},
   "outputs": [],
   "source": [
    "#float_columns_ab=['bill_shock','agg_occ_value','prev_agg_occ_value','occ_amt','prev_occ_amt']\n",
    "for i in float_columns:\n",
    "    features=features.withColumn('{}'.format(i), when(col('{}'.format(i))<0.0,0.0).otherwise(col('{}'.format(i))))"
   ]
  },
  {
   "cell_type": "code",
   "execution_count": null,
   "metadata": {},
   "outputs": [],
   "source": [
    "#Requires More Data to normalize these columns, but a good split value_diff\n",
    "value_splits={}\n",
    "value_bucketizer={}\n",
    "value_columns=float_columns+double_columns\n",
    "decimals_1_float=['feat_amt','pymnt_recvd_amt','bill_bal_amt','bill_curr_amt','agg_occ_value','prev_agg_occ_value','prev_feat_amt',\n",
    "                 'prev_due_amt','prev_pymnt_recvd_amt','prev_bill_bal_amt','prev_bill_curr_amt']\n",
    "for i in value_columns:\n",
    "    value_splits[i]=[-float(\"inf\")]+np.unique(features.approxQuantile('{}'.format(i),(value_diff),thsld)).tolist()+[float(\"inf\")]\n",
    "    if i in decimals_1_float:\n",
    "        value_splits[i]=np.around(value_splits[i],decimals=-1)\n",
    "    elif i=='bill_shock':\n",
    "        value_splits[i]=np.around(value_splits[i],decimals=1)\n",
    "    else:\n",
    "        value_splits[i]=np.around(value_splits[i])\n",
    "    value_splits[i]=np.unique(value_splits[i])\n",
    "    value_bucketizer[i] = Bucketizer(splits=value_splits[i],inputCol=\"{}\".format(i), outputCol=\"{}_buckets\".format(i),handleInvalid=\"keep\")\n",
    "    features=value_bucketizer[i].transform(features)\n",
    "    value_bucketizer[i].save('/user/kreddy01/call_intet_intl_prediction_experiment/model_object_02_26_2020/value_bucketizer_{}'.format(i))"
   ]
  },
  {
   "cell_type": "code",
   "execution_count": null,
   "metadata": {},
   "outputs": [],
   "source": [
    "value_splits"
   ]
  },
  {
   "cell_type": "code",
   "execution_count": null,
   "metadata": {},
   "outputs": [],
   "source": [
    "value_mod=['{}_buckets'.format(x) for x in value_columns]\n",
    "date_mod=['call_{}_buckets'.format(x) for x in date_columns]\n",
    "#value_date_splits={**value_splits,**date_splits}"
   ]
  },
  {
   "cell_type": "code",
   "execution_count": null,
   "metadata": {},
   "outputs": [],
   "source": [
    "import pickle\n",
    "f = open(\"value_splits.pkl\",\"wb\")\n",
    "pickle.dump(value_splits,f)\n",
    "f.close()\n",
    "! hdfs dfs -put value_splits.pkl hdfs://polarisgq-nn1.gq.vcg.yahoo.com:8020/user/kreddy01/call_intet_intl_prediction_experiment/model_object_02_26_2020"
   ]
  },
  {
   "cell_type": "code",
   "execution_count": null,
   "metadata": {},
   "outputs": [],
   "source": [
    "value_bucket_list={}\n",
    "value_splits_list=list(value_splits.values())\n",
    "for i,v in enumerate(value_mod):\n",
    "    #max_bucket_list[i]=features.groupBy().max('{}'.format(i)).distinct().rdd.flatMap(lambda x: x).collect()[0]\n",
    "    value_bucket_list[v]=len(value_splits_list[i])\n",
    "    features=features.withColumn('{}'.format(v),when(col('{}'.format(v)).isNull(),value_bucket_list[v]).otherwise(col('{}'.format(v))))"
   ]
  },
  {
   "cell_type": "code",
   "execution_count": null,
   "metadata": {},
   "outputs": [],
   "source": [
    "for i,v in enumerate(date_mod):\n",
    "    #max_bucket_list[i]=features.groupBy().max('{}'.format(i)).distinct().rdd.flatMap(lambda x: x).collect()[0]\n",
    "    date_bucket_max=len(date_diff)\n",
    "    features=features.withColumn('{}'.format(v),when(col('{}'.format(v)).isNull(),date_bucket_max).otherwise(col('{}'.format(v))))"
   ]
  },
  {
   "cell_type": "code",
   "execution_count": null,
   "metadata": {},
   "outputs": [],
   "source": [
    "#Documentation requried for categorical values\n",
    "cat={}\n",
    "cat['free_plan']=['free','paid']\n",
    "cat['line_type']=['PRIMARY','SECONDARY']\n",
    "cat['occ_reasons']=['data_usg_charges','General_reasons','International_charges','occ_trvlpass','ROAMING']\n",
    "cat['tenure']=['1 YR to 2 YR','2 YR to 3 YR','3 YR+','Up to 1 Year']\n",
    "cat['alert_type']=['BILL_SMS','Daypass_SMS','Data_SMS','International_SMS','TP_SMS']\n",
    "for i in range(1,4):\n",
    "    cat['svc_prod_desc{}'.format(i)]=[\"INT'L HIGH SPEED DATA\",\"TRAVELPASS\",\"INTL TRAVEL VOICE & DATA PAYGO\",\"INCLUDE CANADA/MEXICO\"]\n",
    "for i in range(1,11):\n",
    "    cat['primary{}_topic'.format(i)]=[\"BILLING\",\"CRUISE\",\"PHONE SETTINGS\",\"PLAN & TRAVEL PASS\"]\n",
    "    cat['ccd{}'.format(i)]=['CAN','MEX','GBR','BHS','JAM','DOM','FRA','ITA','CSP','ABW','DEU','ESP']\n",
    "cat['primary_topic']=[\"BILLING\",\"CRUISE\",\"PHONE SETTINGS\",\"PLAN & TRAVEL PASS\"]\n",
    "cat['msg_allow_share_ind']=['Y','N']\n",
    "cat['data_allow_share_ind']=['Y','N']\n",
    "cat['voice_allow_share_ind']=['Y','N']"
   ]
  },
  {
   "cell_type": "code",
   "execution_count": null,
   "metadata": {},
   "outputs": [],
   "source": [
    "features=features.withColumn('free_plan',lower(col('free_plan')))"
   ]
  },
  {
   "cell_type": "code",
   "execution_count": null,
   "metadata": {},
   "outputs": [],
   "source": [
    "cat_columns=[*cat.keys()]"
   ]
  },
  {
   "cell_type": "code",
   "execution_count": null,
   "metadata": {},
   "outputs": [],
   "source": [
    "fromlabelsModel={}\n",
    "model_string={}\n",
    "for i in cat_columns:\n",
    "    features=features.withColumn('{}'.format(i),when(col('{}'.format(i)).isin(*cat[i])==False,None).otherwise(col('{}'.format(i))))\n",
    "    fromlabelsModel[i] = StringIndexer(inputCol=\"{}\".format(i), outputCol=\"indexed_{}\".format(i), handleInvalid=\"keep\",\n",
    "    stringOrderType=\"alphabetAsc\")\n",
    "    model_string[i]=fromlabelsModel[i].fit(features)\n",
    "    features = model_string[i].transform(features)\n",
    "    model_string[i].save('/user/kreddy01/call_intet_intl_prediction_experiment/model_object_02_26_2020/model_string_{}'.format(i))"
   ]
  },
  {
   "cell_type": "code",
   "execution_count": null,
   "metadata": {},
   "outputs": [],
   "source": [
    "cat_mod=['indexed_{}'.format(x) for x in cat_columns]"
   ]
  },
  {
   "cell_type": "code",
   "execution_count": null,
   "metadata": {},
   "outputs": [],
   "source": [
    "total_mod=cat_mod+filter_batch_time+filter_real_time+date_mod+value_mod"
   ]
  },
  {
   "cell_type": "code",
   "execution_count": null,
   "metadata": {},
   "outputs": [],
   "source": [
    "features_model=features.select(total_mod)"
   ]
  },
  {
   "cell_type": "code",
   "execution_count": null,
   "metadata": {},
   "outputs": [],
   "source": [
    "features_model.dtypes"
   ]
  },
  {
   "cell_type": "code",
   "execution_count": null,
   "metadata": {},
   "outputs": [],
   "source": [
    "ohe={}\n",
    "model_ohe={}\n",
    "for i in cat_mod:\n",
    "    ohe[i]=OneHotEncoderEstimator(inputCols=['{}'.format(i)],outputCols=['{}_ohe'.format(i)],handleInvalid='error',dropLast=True)  \n",
    "    model_ohe[i]=ohe[i].fit(features_model)\n",
    "    features_model=model_ohe[i].transform(features_model)\n",
    "    model_ohe[i].save('/user/kreddy01/call_intet_intl_prediction_experiment/model_object_02_26_2020/model_ohe_{}'.format(i))"
   ]
  },
  {
   "cell_type": "code",
   "execution_count": null,
   "metadata": {},
   "outputs": [],
   "source": [
    "ohe_list = list(((filter(lambda x: ('ohe' in x), list(features_model.columns)))))"
   ]
  },
  {
   "cell_type": "code",
   "execution_count": null,
   "metadata": {
    "scrolled": true
   },
   "outputs": [],
   "source": [
    "ohe_list_split={}\n",
    "udf_numpy=udf(lambda x : np.array(x).tolist(),ArrayType(FloatType()))\n",
    "for i in ohe_list:\n",
    "    features_model=features_model.withColumn('{}_numpy'.format(i),udf_numpy('{}'.format(i)))\n",
    "    ohe_list_split[i]=features_model.select(size(features_model['{}_numpy'.format(i)])).toPandas()['size({}_numpy)'.format(i)][0]\n",
    "    for j in range(ohe_list_split[i]):                                            \n",
    "        features_model=features_model.withColumn('{}_numpy_{}'.format(i,j),features_model['{}_numpy'.format(i)][j])"
   ]
  },
  {
   "cell_type": "code",
   "execution_count": null,
   "metadata": {},
   "outputs": [],
   "source": [
    "features_model.dtypes"
   ]
  },
  {
   "cell_type": "code",
   "execution_count": null,
   "metadata": {},
   "outputs": [],
   "source": [
    "ohe_list_numpy = list(filter(lambda x: ('ohe_numpy_' in x), list(features_model.columns)))"
   ]
  },
  {
   "cell_type": "code",
   "execution_count": null,
   "metadata": {},
   "outputs": [],
   "source": [
    "buckets_list = list(filter(lambda x: ('buckets' in x), list(features_model.columns)))"
   ]
  },
  {
   "cell_type": "code",
   "execution_count": null,
   "metadata": {},
   "outputs": [],
   "source": [
    "batch_features=np.array(ohe_list_numpy)\n",
    "batch_features=np.append(batch_features,'indexed_primary_topic')\n",
    "batch_features=np.append(batch_features,filter_batch_time)\n",
    "batch_features=np.append(batch_features,buckets_list)"
   ]
  },
  {
   "cell_type": "code",
   "execution_count": null,
   "metadata": {},
   "outputs": [],
   "source": [
    "batch_features.tolist()"
   ]
  },
  {
   "cell_type": "code",
   "execution_count": null,
   "metadata": {},
   "outputs": [],
   "source": [
    "all_features=np.append(batch_features,filter_real_time)"
   ]
  },
  {
   "cell_type": "code",
   "execution_count": null,
   "metadata": {},
   "outputs": [],
   "source": [
    "features_train_pandas_all=features_model.select(*all_features).toPandas()"
   ]
  },
  {
   "cell_type": "code",
   "execution_count": null,
   "metadata": {},
   "outputs": [],
   "source": [
    "train_pandas=features_train_pandas_all"
   ]
  },
  {
   "cell_type": "code",
   "execution_count": null,
   "metadata": {},
   "outputs": [],
   "source": [
    "train_pandas['current_dt_1msg']=np.where(train_pandas['call_tvl1_buckets']<=1.0, 1.0, 0.0)"
   ]
  },
  {
   "cell_type": "code",
   "execution_count": null,
   "metadata": {},
   "outputs": [],
   "source": [
    "output_one_hot=['indexed_primary_topic_ohe_numpy_0','indexed_primary_topic_ohe_numpy_1','indexed_primary_topic_ohe_numpy_2','indexed_primary_topic_ohe_numpy_3','indexed_primary_topic']\n",
    "all_columns=train_pandas.columns\n",
    "input_cols=np.delete(all_columns, [i for i,v in enumerate(all_columns) if v in output_one_hot])"
   ]
  },
  {
   "cell_type": "code",
   "execution_count": null,
   "metadata": {},
   "outputs": [],
   "source": [
    "list(input_cols)"
   ]
  },
  {
   "cell_type": "code",
   "execution_count": null,
   "metadata": {},
   "outputs": [],
   "source": [
    "y=train_pandas['indexed_primary_topic']"
   ]
  },
  {
   "cell_type": "code",
   "execution_count": null,
   "metadata": {},
   "outputs": [],
   "source": [
    "X=train_pandas[list(input_cols)]"
   ]
  },
  {
   "cell_type": "code",
   "execution_count": null,
   "metadata": {},
   "outputs": [],
   "source": [
    "np.unique(y,return_counts=True)"
   ]
  },
  {
   "cell_type": "code",
   "execution_count": null,
   "metadata": {},
   "outputs": [],
   "source": [
    "y=y.replace(4.0,3.0)"
   ]
  },
  {
   "cell_type": "code",
   "execution_count": null,
   "metadata": {},
   "outputs": [],
   "source": [
    "from sklearn.ensemble import RandomForestClassifier\n",
    "from sklearn.metrics import confusion_matrix"
   ]
  },
  {
   "cell_type": "code",
   "execution_count": null,
   "metadata": {},
   "outputs": [],
   "source": [
    "x_train=X.head(1000000)\n",
    "y_train=y.head(1000000)\n",
    "clf = RandomForestClassifier(n_estimators=100,max_depth=20, random_state=0,class_weight='balanced')"
   ]
  },
  {
   "cell_type": "code",
   "execution_count": null,
   "metadata": {},
   "outputs": [],
   "source": [
    "x_train_np=np.array(x_train)\n",
    "y_train_np=np.array(y_train)"
   ]
  },
  {
   "cell_type": "code",
   "execution_count": null,
   "metadata": {},
   "outputs": [],
   "source": [
    "clf.fit(x_train,y_train)"
   ]
  },
  {
   "cell_type": "code",
   "execution_count": null,
   "metadata": {},
   "outputs": [],
   "source": [
    "D=pd.DataFrame(X.tail(200000))\n",
    "D['label']=y.tail(200000)\n",
    "trvl_once=D['call_tvl1_buckets']>1.0\n",
    "D=D[trvl_once]"
   ]
  },
  {
   "cell_type": "code",
   "execution_count": null,
   "metadata": {},
   "outputs": [],
   "source": [
    "confusion_matrix(np.array(y.tail(200000)),clf.predict(np.array(X.tail(200000))))"
   ]
  },
  {
   "cell_type": "code",
   "execution_count": null,
   "metadata": {},
   "outputs": [],
   "source": [
    "confusion_matrix(np.array(D['label']),clf.predict(np.array(D.loc[:,D.columns!='label'])))"
   ]
  },
  {
   "cell_type": "code",
   "execution_count": null,
   "metadata": {},
   "outputs": [],
   "source": [
    "feature_importance = {input_cols[i]: clf.feature_importances_[i] for i in range(len(input_cols))}"
   ]
  },
  {
   "cell_type": "code",
   "execution_count": null,
   "metadata": {},
   "outputs": [],
   "source": [
    "feature_importance_sorted = sorted(feature_importance, key=feature_importance.get, reverse=True)"
   ]
  },
  {
   "cell_type": "code",
   "execution_count": null,
   "metadata": {
    "scrolled": false
   },
   "outputs": [],
   "source": [
    "for r in feature_importance_sorted:\n",
    "    print('{} : {}'.format(r,feature_importance[r]))"
   ]
  },
  {
   "cell_type": "code",
   "execution_count": null,
   "metadata": {},
   "outputs": [],
   "source": [
    "X.to_csv('jan_x.csv')\n",
    "! hdfs dfs -put jan_x.csv hdfs://polarisgq-nn1.gq.vcg.yahoo.com:8020/user/kreddy01/call_intet_intl_prediction_experiment/model_object_02_24_2020"
   ]
  },
  {
   "cell_type": "code",
   "execution_count": null,
   "metadata": {},
   "outputs": [],
   "source": [
    "y.to_csv('jan_y.csv',header=True)\n",
    "! hdfs dfs -put jan_y.csv hdfs://polarisgq-nn1.gq.vcg.yahoo.com:8020/user/kreddy01/call_intet_intl_prediction_experiment/model_object_02_24_2020"
   ]
  },
  {
   "cell_type": "code",
   "execution_count": null,
   "metadata": {},
   "outputs": [],
   "source": [
    "pickle.dump(clf, open( \"rf_n_100_d_20.p\", \"wb\" ))\n",
    "! hdfs dfs -put rf_n_100_d_20.p hdfs://polarisgq-nn1.gq.vcg.yahoo.com:8020/user/kreddy01/call_intet_intl_prediction_experiment/model_object_02_24_2020"
   ]
  },
  {
   "cell_type": "code",
   "execution_count": null,
   "metadata": {},
   "outputs": [],
   "source": [
    "import pickle\n",
    "import numpy\n",
    "class model:\n",
    "    def __init__(self):\n",
    "        #self.clf=clf\n",
    "        self.model=pickle.load(open( \"rf_n_100_d_20.p\", \"rb\" ) )\n",
    "    def predict(self,temp):\n",
    "        self.temp=temp\n",
    "        if clf.predict(self.temp)==0.0:\n",
    "            return 'billing'\n",
    "        elif clf.predict(self.temp)==1.0:\n",
    "            return 'cruise'\n",
    "        elif clf.predict(self.temp)==2.0:\n",
    "            return 'phone_settings'\n",
    "        elif clf.predict(self.temp)==3.0:\n",
    "            return 'plan_travelpass'\n",
    "\n",
    "    def predict_proba(self,temp):\n",
    "        self.temp=temp\n",
    "        return np.around(np.max(clf.predict_proba(self.temp)),5)\n",
    "    def __call__(self,*x_input):\n",
    "        x_input = list(x_input)[0]\n",
    "        x_input=np.array(x_input).reshape(-1,1)\n",
    "        x_predict=self.predict(x_input)\n",
    "        x_predict_proba=self.predict_proba(x_input)\n",
    "        return x_predict,x_predict_proba"
   ]
  },
  {
   "cell_type": "code",
   "execution_count": null,
   "metadata": {},
   "outputs": [],
   "source": [
    "class_model=model()\n",
    "print(class_model.predict(X.tail(1)))\n",
    "print(class_model.predict_proba(X.tail(1)))"
   ]
  },
  {
   "cell_type": "code",
   "execution_count": null,
   "metadata": {},
   "outputs": [],
   "source": [
    "X.tail(1).to_csv('x_test.csv')\n",
    "! hdfs dfs -put x_test.csv hdfs://polarisgq-nn1.gq.vcg.yahoo.com:8020/user/vjain01/call_intet_intl_prediction_experiment/model_object_02_24_2020"
   ]
  },
  {
   "cell_type": "code",
   "execution_count": null,
   "metadata": {},
   "outputs": [],
   "source": [
    "#without real time site catalyst columns\n"
   ]
  }
 ],
 "metadata": {
  "kernel_args": {
   "conf": {
    "spark.driver.maxResultSize": "10g",
    "spark.driver.memoryOverhead": "36g",
    "spark.executor.memoryOverhead": "36g",
    "spark.oath.dockerImage": "hadoop/rhel7_mlbundle:current"
   },
   "driver-cores": "12",
   "driver-memory": "36g",
   "executor-cores": "16",
   "executor-memory": "64g",
   "num-executors": "100",
   "version": "current"
  },
  "kernelspec": {
   "display_name": "PySpark 3 (Beta)",
   "language": "",
   "name": "pysparkkernel3"
  },
  "language_info": {
   "codemirror_mode": {
    "name": "python",
    "version": 3
   },
   "mimetype": "text/x-python",
   "name": "pyspark3",
   "pygments_lexer": "ipython2",
   "version": "1.0"
  }
 },
 "nbformat": 4,
 "nbformat_minor": 2
}
